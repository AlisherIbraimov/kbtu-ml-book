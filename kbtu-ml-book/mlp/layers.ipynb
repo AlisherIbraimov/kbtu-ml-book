{
  "cells": [
    {
      "cell_type": "markdown",
      "metadata": {
        "id": "view-in-github",
        "colab_type": "text"
      },
      "source": [
        "<a href=\"https://colab.research.google.com/github/mdainur/kbtu-ml-book/blob/mlp-layers/kbtu-ml-book/mlp/layers.ipynb\" target=\"_parent\"><img src=\"https://colab.research.google.com/assets/colab-badge.svg\" alt=\"Open In Colab\"/></a>"
      ]
    },
    {
      "cell_type": "markdown",
      "metadata": {
        "id": "6manaTiqtTe2"
      },
      "source": [
        "# Layers of MLP\n",
        "\n",
        "From mathematical point of view MLP is a smooth function $F$ which is constructed as a composition of some other functions\n",
        "\n",
        "$$\n",
        "F(\\boldsymbol x) = (f_{L} \\circ f_{L-1} \\circ\\ldots \\circ f_2 \\circ f_1)(\\boldsymbol x),\\quad\n",
        "\\boldsymbol x \\in \\mathbb R^{n_0}\n",
        "$$\n",
        "\n",
        "Each function\n",
        "\n",
        "$$\n",
        "    f_\\ell \\colon \\mathbb R^{n_{\\ell - 1}} \\to \\mathbb R^{n_\\ell}\n",
        "$$\n",
        "\n",
        "is called a **layer**; it converts representation of $(\\ell-1)$-th layer\n",
        "\n",
        "$$\n",
        "    \\boldsymbol x_{\\ell -1} \\in \\mathbb R^{n_{\\ell - 1}}\n",
        "$$\n",
        "\n",
        "to the representation of $\\ell$-th layer\n",
        "\n",
        "$$\n",
        "   \\boldsymbol x_{\\ell} \\in \\mathbb R^{n_{\\ell}}.\n",
        "$$\n",
        "\n",
        "Thus, the **input layer** $\\boldsymbol x_0 \\in \\mathbb R^{n_0}$ is converted to the **output layer** $\\boldsymbol x_L \\in \\mathbb R^{n_L}$. All other layers $\\boldsymbol x_\\ell$, $1\\leqslant \\ell < L$, are called **hidden layers**. If an MLP has two or more hidden layers, it is called a deep neural network.\n",
        "\n",
        "```{warning}\n",
        "The terminology about layers is a bit ambiguous. Both functions $f_\\ell$ and their outputs $\\boldsymbol x_\\ell = f(\\boldsymbol x_{\\ell - 1})$ are called $\\ell$-th layer in different sources.\n",
        "```\n",
        "\n"
      ]
    },
    {
      "cell_type": "markdown",
      "source": [
        "## Parameters of MLP\n",
        "\n",
        "However, one important element is missing in this description of MLP: parameters! Each layer $f_\\ell$ has a vector of parameters $\\boldsymbol \\theta_\\ell\\in\\mathbb R^{m_\\ell}$ (sometimes empty). Hence, a layer should be defined as\n",
        "\n",
        "$$\n",
        "    f_\\ell \\colon \\mathbb R^{n_{\\ell - 1}} \\times \\mathbb R^{m_\\ell} \\to \\mathbb R^{n_\\ell}.\n",
        "$$\n",
        "\n",
        "The representation $\\boldsymbol x_\\ell$ is calculated from $\\boldsymbol x_{\\ell -1}$ by the formula\n",
        "\n",
        "$$\n",
        "\\boldsymbol x_\\ell = f_\\ell(\\boldsymbol x_{\\ell - 1},\\boldsymbol \\theta_\\ell)\n",
        "$$\n",
        "\n",
        "with some fixed $\\boldsymbol \\theta_\\ell\\in\\mathbb R^{m_\\ell}$. The whole MLP $F$ depends on parameters of all layers:\n",
        "\n",
        "$$\n",
        "    F(\\boldsymbol x, \\boldsymbol \\theta), \\quad \\boldsymbol \\theta = (\\boldsymbol \\theta_1, \\ldots, \\boldsymbol \\theta_L).\n",
        "$$\n",
        "\n",
        "All these parameters are trained simultaneously by the {ref}`backpropagation method <backprop>`.\n",
        "\n",
        "\n"
      ],
      "metadata": {
        "id": "srt9mrJJJ5LG"
      }
    },
    {
      "cell_type": "markdown",
      "source": [
        "## Linear layer\n",
        "\n",
        "Edges between two consequetive layers denote **linear** (or **dense**) layer:\n",
        "\n",
        "$$\n",
        "    \\boldsymbol x_\\ell = f(\\boldsymbol x_{\\ell - 1}; \\boldsymbol W, \\boldsymbol b) = \\boldsymbol {Wx}_{\\ell - 1} + \\boldsymbol b.\n",
        "$$\n",
        "\n",
        "The matrix $\\boldsymbol W \\in \\mathbb R^{n_{\\ell - 1}\\times n_\\ell}$ and vector $\\boldsymbol b \\in \\mathbb R^{n_\\ell}$ (bias) are parameters of the linear layer which defines the linear transformation from $\\boldsymbol x_{\\ell - 1}$ to $\\boldsymbol x_{\\ell}$.\n",
        "\n",
        "**Q**. How many numeric parameters does such linear layer have?\n",
        "\n",
        "```{admonition} Exercise\n",
        ":class: important\n",
        "\n",
        "Suppose that we apply one more dense layer:\n",
        "\n",
        "$$\n",
        "    \\boldsymbol x_{\\ell + 1} = \\boldsymbol {W'x}_{\\ell} + \\boldsymbol{b'}\n",
        "$$\n",
        "\n",
        "Express $\\boldsymbol x_{\\ell + 1}$ as a function of $\\boldsymbol x_{\\ell - 1}$.```"
      ],
      "metadata": {
        "id": "7mpBmGUjKGOw"
      }
    },
    {
      "cell_type": "code",
      "source": [
        "# @title\n",
        "import json\n",
        "from jupyterquiz import display_quiz\n",
        "display_quiz(\"https://raw.githubusercontent.com/teslasama/specialforumlf/main/question2.json\")"
      ],
      "metadata": {
        "colab": {
          "base_uri": "https://localhost:8080/",
          "height": 367
        },
        "id": "8T8D_vmhtxoq",
        "outputId": "cf25b23f-e6d3-4e4a-e854-90c1b7c958df"
      },
      "execution_count": 3,
      "outputs": [
        {
          "output_type": "error",
          "ename": "ModuleNotFoundError",
          "evalue": "ignored",
          "traceback": [
            "\u001b[0;31m---------------------------------------------------------------------------\u001b[0m",
            "\u001b[0;31mModuleNotFoundError\u001b[0m                       Traceback (most recent call last)",
            "\u001b[0;32m<ipython-input-3-c016456284da>\u001b[0m in \u001b[0;36m<cell line: 3>\u001b[0;34m()\u001b[0m\n\u001b[1;32m      1\u001b[0m \u001b[0;31m# @title\u001b[0m\u001b[0;34m\u001b[0m\u001b[0;34m\u001b[0m\u001b[0m\n\u001b[1;32m      2\u001b[0m \u001b[0;32mimport\u001b[0m \u001b[0mjson\u001b[0m\u001b[0;34m\u001b[0m\u001b[0;34m\u001b[0m\u001b[0m\n\u001b[0;32m----> 3\u001b[0;31m \u001b[0;32mfrom\u001b[0m \u001b[0mjupyterquiz\u001b[0m \u001b[0;32mimport\u001b[0m \u001b[0mdisplay_quiz\u001b[0m\u001b[0;34m\u001b[0m\u001b[0;34m\u001b[0m\u001b[0m\n\u001b[0m\u001b[1;32m      4\u001b[0m \u001b[0mdisplay_quiz\u001b[0m\u001b[0;34m(\u001b[0m\u001b[0;34m\"https://raw.githubusercontent.com/teslasama/specialforumlf/main/question2.json\"\u001b[0m\u001b[0;34m)\u001b[0m\u001b[0;34m\u001b[0m\u001b[0;34m\u001b[0m\u001b[0m\n",
            "\u001b[0;31mModuleNotFoundError\u001b[0m: No module named 'jupyterquiz'",
            "",
            "\u001b[0;31m---------------------------------------------------------------------------\u001b[0;32m\nNOTE: If your import is failing due to a missing package, you can\nmanually install dependencies using either !pip or !apt.\n\nTo view examples of installing some common dependencies, click the\n\"Open Examples\" button below.\n\u001b[0;31m---------------------------------------------------------------------------\u001b[0m\n"
          ],
          "errorDetails": {
            "actions": [
              {
                "action": "open_url",
                "actionText": "Open Examples",
                "url": "/notebooks/snippets/importing_libraries.ipynb"
              }
            ]
          }
        }
      ]
    },
    {
      "cell_type": "code",
      "source": [
        "# @title\n",
        "display_quiz(\"https://raw.githubusercontent.com/teslasama/specialforumlf/main/question1.json\")"
      ],
      "metadata": {
        "id": "rCkxaoLXtxlS",
        "cellView": "form"
      },
      "execution_count": null,
      "outputs": []
    },
    {
      "cell_type": "markdown",
      "metadata": {
        "id": "xC7csZoUtTe7"
      },
      "source": [
        "###Linear layer in PyTorch"
      ]
    },
    {
      "cell_type": "code",
      "execution_count": null,
      "metadata": {
        "id": "KrMHg1v7tTe8",
        "outputId": "bb05579d-f6e2-4e4a-f1c0-0495a1f93c4b",
        "colab": {
          "base_uri": "https://localhost:8080/"
        }
      },
      "outputs": [
        {
          "output_type": "execute_result",
          "data": {
            "text/plain": [
              "tensor([ 1.2436, -0.0723,  0.9756, -0.5187,  0.6364])"
            ]
          },
          "metadata": {},
          "execution_count": 2
        }
      ],
      "source": [
        "import torch\n",
        "\n",
        "x = torch.randn(5)\n",
        "x"
      ]
    },
    {
      "cell_type": "markdown",
      "source": [
        "Weights:"
      ],
      "metadata": {
        "id": "wsCdThCiqgd4"
      }
    },
    {
      "cell_type": "code",
      "execution_count": null,
      "metadata": {
        "id": "_sxAat8ftTe-",
        "outputId": "e70e2df2-6e02-40e8-8389-994b34c07abd",
        "colab": {
          "base_uri": "https://localhost:8080/"
        }
      },
      "outputs": [
        {
          "output_type": "execute_result",
          "data": {
            "text/plain": [
              "Parameter containing:\n",
              "tensor([[ 0.3359,  0.4437, -0.0427,  0.3906, -0.1901],\n",
              "        [-0.3693, -0.0127, -0.3842,  0.3023,  0.2035],\n",
              "        [-0.3311, -0.1256, -0.4209, -0.0798,  0.1506],\n",
              "        [-0.1035, -0.3799,  0.1148, -0.2022, -0.1295],\n",
              "        [-0.4456, -0.3290, -0.4069,  0.4018, -0.3390],\n",
              "        [ 0.0926,  0.1634,  0.2556, -0.2378,  0.3225]], requires_grad=True)"
            ]
          },
          "metadata": {},
          "execution_count": 3
        }
      ],
      "source": [
        "linear_layer = torch.nn.Linear(5, 6)\n",
        "linear_layer.weight"
      ]
    },
    {
      "cell_type": "markdown",
      "source": [
        "Apply the linear transformation:"
      ],
      "metadata": {
        "id": "yUa6eJJ2q8go"
      }
    },
    {
      "cell_type": "code",
      "source": [
        "linear_layer(x)"
      ],
      "metadata": {
        "colab": {
          "base_uri": "https://localhost:8080/"
        },
        "id": "mGCyytVVq90b",
        "outputId": "44b2c94d-f1de-4a0e-ab76-e885acba99e7"
      },
      "execution_count": null,
      "outputs": [
        {
          "output_type": "execute_result",
          "data": {
            "text/plain": [
              "tensor([-0.2087, -0.8949, -0.5691, -0.3338, -1.4116,  0.4683],\n",
              "       grad_fn=<ViewBackward0>)"
            ]
          },
          "metadata": {},
          "execution_count": 4
        }
      ]
    },
    {
      "cell_type": "code",
      "source": [
        "# @title\n",
        "import matplotlib.pyplot as plt\n",
        "\n",
        "weights = linear_layer.weight.detach().numpy().T\n",
        "biases = linear_layer.bias.detach().numpy()\n",
        "\n",
        "fig, axs = plt.subplots(2, 1, figsize=(8, 6))\n",
        "\n",
        "# Plot weights\n",
        "axs[0].bar(range(1, 7), weights[0], color='blue', label='Weights')\n",
        "axs[0].set(title='Weights of Linear Layer', xlabel='Input Feature Index', ylabel='Weight Value')\n",
        "\n",
        "# Plot biases\n",
        "axs[1].bar(range(1, 7), biases, color='orange', label='Biases')\n",
        "axs[1].set(title='Biases of Linear Layer', xlabel='Neuron Index', ylabel='Bias Value')\n",
        "\n",
        "plt.tight_layout()\n",
        "plt.show()"
      ],
      "metadata": {
        "colab": {
          "base_uri": "https://localhost:8080/",
          "height": 607
        },
        "id": "DLR2qsXEw54Z",
        "outputId": "112b1c09-94a0-450d-f4f1-48358476d8bb",
        "cellView": "form"
      },
      "execution_count": null,
      "outputs": [
        {
          "output_type": "display_data",
          "data": {
            "text/plain": [
              "<Figure size 800x600 with 2 Axes>"
            ],
            "image/png": "[encoded data removed]"
          },
          "metadata": {}
        }
      ]
    },
    {
      "cell_type": "markdown",
      "metadata": {
        "id": "sOjGyeFrtTe_"
      },
      "source": [
        "## Activation layer"
      ]
    },
    {
      "cell_type": "markdown",
      "metadata": {
        "id": "5DpI9ljHtTe_"
      },
      "source": [
        "The perceptron computes a single output from multiple real-valued inputs by forming a linear combination according to its input weights and then possibly putting the output through some nonlinear **activation function**. Mathematically this can be written as\n",
        "\n",
        "\n",
        "$$\n",
        "    y = \\boldsymbol\\psi \\Big(\\sum\\limits_{i=1}^l W_i x_i + b \\Big) = \\boldsymbol\\psi( W^\\top \\boldsymbol x + b).\n",
        "$$\n",
        "\n",
        "where, $\\boldsymbol\\psi$ is the activatiion function.\n",
        "\n",
        "```{warning}\n",
        "Note that different layers may have different activation functions.\n",
        "```\n",
        "\n",
        "The original Rosenblatt's perceptron used a Heaviside step function\n",
        "$$\n",
        "    \\mathbb H(x) = \\begin{cases}\n",
        "        1,& \\text{if }  x \\geqslant 0, \\\\\n",
        "        0,& \\text{if }  x < 0.\n",
        "    \\end{cases}\n",
        "$$\n",
        "as the activation function $\\boldsymbol\\phi$. While the value of “1” triggers the activation function and “0” does not. If there exists more than one layer,a value of “1” will be configured to pass the output to the input of the next layer. Consequently, a “0” value is configured to be ignored and will not be passed to the next processor.\n",
        "\n",
        "\n",
        "Nowadays, and especially in multilayer networks, the activation function is often chosen to be the logistic sigmoid\n",
        "$$\n",
        "\\sigma(x) = \\frac{1}{1 + e^{-x}}\n",
        "$$\n",
        "\n",
        "or the hyperbolic tangent\n",
        "\n",
        "$$\n",
        "\\tanh(x)\n",
        "$$"
      ]
    },
    {
      "cell_type": "code",
      "source": [
        "# @title\n",
        "import torch\n",
        "import matplotlib.pyplot as plt\n",
        "import ipywidgets as widgets\n",
        "from ipywidgets import interactive\n",
        "from IPython.display import display, clear_output, HTML\n",
        "\n",
        "torch.manual_seed(1)\n",
        "\n",
        "initial_x_value = 10\n",
        "x_slider = widgets.FloatSlider(value=initial_x_value, min=-10, max=10, step=0.01, description='X Value:')\n",
        "\n",
        "def plot_activation_functions(x_value, sigmoid, relu, tanh, softplus):\n",
        "    x = torch.linspace(-initial_x_value, initial_x_value, 100)\n",
        "    x_numpy = x.numpy()\n",
        "\n",
        "    plt.figure(figsize=(8, 6))\n",
        "\n",
        "    if sigmoid:\n",
        "        plt.plot(x_numpy, torch.sigmoid(x).numpy(), label='Sigmoid')\n",
        "\n",
        "    if relu:\n",
        "        plt.plot(x_numpy, torch.relu(x).numpy(), label='ReLU')\n",
        "\n",
        "    if tanh:\n",
        "        plt.plot(x_numpy, torch.tanh(x).numpy(), label='Tanh')\n",
        "\n",
        "    if softplus:\n",
        "        plt.plot(x_numpy, torch.nn.functional.softplus(x).numpy(), label='Softplus')\n",
        "\n",
        "    plt.title('Activation Functions')\n",
        "    plt.xlabel('Input')\n",
        "    plt.ylabel('Output')\n",
        "    plt.legend()\n",
        "    plt.grid(True)\n",
        "\n",
        "    plt.xlim(-initial_x_value, initial_x_value)\n",
        "    plt.ylim(-1, 2)\n",
        "\n",
        "    plt.axvline(x_value, color='r', linestyle='--', label=f'X Value: {x_value:.2f}')\n",
        "    plt.legend(loc='upper right')\n",
        "\n",
        "    plt.show()\n",
        "\n",
        "sigmoid_checkbox = widgets.Checkbox(value=True, description='Sigmoid', indent=False, layout={'marginRight': '50px'})\n",
        "relu_checkbox = widgets.Checkbox(value=False, description='ReLU', indent=False, layout={'marginRight': '50px'})\n",
        "tanh_checkbox = widgets.Checkbox(value=False, description='Tanh', indent=False, layout={'marginRight': '50px'})\n",
        "softplus_checkbox = widgets.Checkbox(value=False, description='Softplus', indent=False, layout={'marginRight': '50px'})\n",
        "\n",
        "interactive_plot = interactive(plot_activation_functions,\n",
        "                               x_value=x_slider,\n",
        "                               sigmoid=sigmoid_checkbox,\n",
        "                               relu=relu_checkbox,\n",
        "                               tanh=tanh_checkbox,\n",
        "                               softplus=softplus_checkbox)\n",
        "\n",
        "# Use HTML to hide the input cell\n",
        "html_code = \"\"\"\n",
        "<style>\n",
        "    .input_area {\n",
        "        display: none;\n",
        "    }\n",
        "</style>\n",
        "\"\"\"\n",
        "display(HTML(html_code))\n",
        "\n",
        "# Display the interactive plot\n",
        "display(interactive_plot)\n"
      ],
      "metadata": {
        "colab": {
          "base_uri": "https://localhost:8080/",
          "height": 724,
          "referenced_widgets": [
            "7cc6793f99804148ab89553f902cdd00",
            "b5e1228016df4c45af7ab6bd42e6588b",
            "f35886353dfc45a39972b9419be4fbc1",
            "a786b96b81894aa9ac588fe77509d2bc",
            "1b35b1d03dfc410c8476311de2d50f24",
            "3903e91a1f0b4cbfb80239df7692470d",
            "ffb3b21a1ac9496fa79ba5ac5fa5ed48",
            "f96f452b2c9043ffb0c8b8f47e471eaf",
            "4ac318705d13467d8b0a588c20c0c6b8",
            "d070e4d88bea4fce881c9c7a6f446326",
            "2d4e992714e0403da2fb9d38241ba25d",
            "073f8eb533e54a1d98a9ac05fcf6ab79",
            "b599c7f9f718473fa8ffccf4432b5ca0",
            "bfff051887084754b6a75a52473b14e8",
            "88aa24936559421a8ec243767892540b",
            "aed0acd3c45643c78fa7f2db183c694e",
            "4cb0b4be66334b94af48a9df0bebf606",
            "643a3ffe23fa464eb34013485a4fafad",
            "1ae4de9b3d1b49c0974c3bbe63011b7d"
          ]
        },
        "id": "hfiMCmtJDVxV",
        "outputId": "5e71ea8e-a9e1-4dc4-c322-f2a7bcb4d646",
        "cellView": "form"
      },
      "execution_count": null,
      "outputs": [
        {
          "output_type": "display_data",
          "data": {
            "text/plain": [
              "<IPython.core.display.HTML object>"
            ],
            "text/html": [
              "\n",
              "<style>\n",
              "    .input_area {\n",
              "        display: none;\n",
              "    }\n",
              "</style>\n"
            ]
          },
          "metadata": {}
        },
        {
          "output_type": "display_data",
          "data": {
            "text/plain": [
              "interactive(children=(FloatSlider(value=10.0, description='X Value:', max=10.0, min=-10.0, step=0.01), Checkbo…"
            ],
            "application/vnd.jupyter.widget-view+json": {
              "version_major": 2,
              "version_minor": 0,
              "model_id": "7cc6793f99804148ab89553f902cdd00"
            }
          },
          "metadata": {}
        }
      ]
    },
    {
      "cell_type": "markdown",
      "source": [
        "These functions are used because they are mathematically convenient and are close to linear near origin while saturating rather quickly when getting away from the origin. This allows MLP networks to model well both strongly and mildly nonlinear mappings.\n",
        "\n",
        "\n",
        "\n",
        "**Q**. How do the functions of the logistic sigmoid and hyperbolic tangent are related?\n",
        "\n",
        "```{admonition} Exercise\n",
        ":class: important\n",
        "\n",
        "They are related by  \n",
        "$$\n",
        "\\frac{\\tanh(x)+1}2 = \\frac{1}{1 + e^{-2x}}\n",
        "$$```\n",
        "\n",
        "We will discover activation functions in more detail in the {ref}`Activation functions <activations>`."
      ],
      "metadata": {
        "id": "5pmXNS_cQY9I"
      }
    },
    {
      "cell_type": "code",
      "source": [
        "# @title\n",
        "display_quiz(\"https://raw.githubusercontent.com/teslasama/specialforumlf/main/question4.json\")"
      ],
      "metadata": {
        "colab": {
          "base_uri": "https://localhost:8080/",
          "height": 191
        },
        "id": "C79Sx4kSxrRa",
        "outputId": "8dd0c3fa-c76f-4868-a925-a70f01e239ed",
        "cellView": "form"
      },
      "execution_count": null,
      "outputs": [
        {
          "output_type": "error",
          "ename": "NameError",
          "evalue": "ignored",
          "traceback": [
            "\u001b[0;31m---------------------------------------------------------------------------\u001b[0m",
            "\u001b[0;31mNameError\u001b[0m                                 Traceback (most recent call last)",
            "\u001b[0;32m<ipython-input-7-25cec66221ea>\u001b[0m in \u001b[0;36m<cell line: 2>\u001b[0;34m()\u001b[0m\n\u001b[1;32m      1\u001b[0m \u001b[0;31m# @title\u001b[0m\u001b[0;34m\u001b[0m\u001b[0;34m\u001b[0m\u001b[0m\n\u001b[0;32m----> 2\u001b[0;31m \u001b[0mdisplay_quiz\u001b[0m\u001b[0;34m(\u001b[0m\u001b[0;34m\"https://raw.githubusercontent.com/teslasama/specialforumlf/main/question4.json\"\u001b[0m\u001b[0;34m)\u001b[0m\u001b[0;34m\u001b[0m\u001b[0;34m\u001b[0m\u001b[0m\n\u001b[0m",
            "\u001b[0;31mNameError\u001b[0m: name 'display_quiz' is not defined"
          ]
        }
      ]
    },
    {
      "cell_type": "markdown",
      "source": [
        "### Sigmoid function in PyTorch"
      ],
      "metadata": {
        "id": "OfaQHAj8ZRh3"
      }
    },
    {
      "cell_type": "code",
      "source": [
        "import torch\n",
        "\n",
        "torch.manual_seed(1)\n",
        "\n",
        "x = torch.randn((3, 3, 3))\n",
        "x"
      ],
      "metadata": {
        "id": "38k6IsppRtsR",
        "colab": {
          "base_uri": "https://localhost:8080/"
        },
        "outputId": "36e9a4ec-deff-44da-80cd-0930a867f897"
      },
      "execution_count": null,
      "outputs": [
        {
          "output_type": "execute_result",
          "data": {
            "text/plain": [
              "tensor([[[-1.5256, -0.7502, -0.6540],\n",
              "         [-1.6095, -0.1002, -0.6092],\n",
              "         [-0.9798, -1.6091, -0.7121]],\n",
              "\n",
              "        [[ 0.3037, -0.7773, -0.0954],\n",
              "         [ 0.1394, -1.5785, -0.3206],\n",
              "         [-0.2993,  1.8793, -0.0721]],\n",
              "\n",
              "        [[ 0.1578,  1.7163, -0.0561],\n",
              "         [ 0.9107, -1.3924,  2.6891],\n",
              "         [-0.1110,  0.2927, -0.1578]]])"
            ]
          },
          "metadata": {},
          "execution_count": 8
        }
      ]
    },
    {
      "cell_type": "markdown",
      "source": [
        "Apply the sigmoid function and print the minimum and maximum values of the tensor:"
      ],
      "metadata": {
        "id": "3iApZcZnsIMm"
      }
    },
    {
      "cell_type": "code",
      "source": [
        "y = torch.sigmoid(x)\n",
        "\n",
        "y.min(), y.max()"
      ],
      "metadata": {
        "colab": {
          "base_uri": "https://localhost:8080/"
        },
        "id": "oHr9SNgdYvJc",
        "outputId": "55b15392-dac3-41d2-c6d4-6c57e7a4cabc"
      },
      "execution_count": null,
      "outputs": [
        {
          "output_type": "execute_result",
          "data": {
            "text/plain": [
              "(tensor(0.1667), tensor(0.9364))"
            ]
          },
          "metadata": {},
          "execution_count": 10
        }
      ]
    },
    {
      "cell_type": "code",
      "source": [
        "# @title\n",
        "display_quiz(\"https://raw.githubusercontent.com/teslasama/specialforumlf/main/question5.json\")"
      ],
      "metadata": {
        "colab": {
          "base_uri": "https://localhost:8080/",
          "height": 191
        },
        "id": "pj90yBTQx2oA",
        "outputId": "1a0cc441-ec51-44ad-ce27-27a95457bec6",
        "cellView": "form"
      },
      "execution_count": null,
      "outputs": [
        {
          "output_type": "error",
          "ename": "NameError",
          "evalue": "ignored",
          "traceback": [
            "\u001b[0;31m---------------------------------------------------------------------------\u001b[0m",
            "\u001b[0;31mNameError\u001b[0m                                 Traceback (most recent call last)",
            "\u001b[0;32m<ipython-input-11-6c226f985569>\u001b[0m in \u001b[0;36m<cell line: 2>\u001b[0;34m()\u001b[0m\n\u001b[1;32m      1\u001b[0m \u001b[0;31m# @title\u001b[0m\u001b[0;34m\u001b[0m\u001b[0;34m\u001b[0m\u001b[0m\n\u001b[0;32m----> 2\u001b[0;31m \u001b[0mdisplay_quiz\u001b[0m\u001b[0;34m(\u001b[0m\u001b[0;34m\"https://raw.githubusercontent.com/teslasama/specialforumlf/main/question5.json\"\u001b[0m\u001b[0;34m)\u001b[0m\u001b[0;34m\u001b[0m\u001b[0;34m\u001b[0m\u001b[0m\n\u001b[0m",
            "\u001b[0;31mNameError\u001b[0m: name 'display_quiz' is not defined"
          ]
        }
      ]
    },
    {
      "cell_type": "code",
      "source": [
        "# @title\n",
        "display_quiz(\"https://raw.githubusercontent.com/teslasama/specialforumlf/main/question3.json\")"
      ],
      "metadata": {
        "colab": {
          "base_uri": "https://localhost:8080/",
          "height": 191
        },
        "id": "NdPeWLgxzsHm",
        "outputId": "b6afef7d-fc40-4eb0-b67b-043bf7589c2e",
        "cellView": "form"
      },
      "execution_count": null,
      "outputs": [
        {
          "output_type": "error",
          "ename": "NameError",
          "evalue": "ignored",
          "traceback": [
            "\u001b[0;31m---------------------------------------------------------------------------\u001b[0m",
            "\u001b[0;31mNameError\u001b[0m                                 Traceback (most recent call last)",
            "\u001b[0;32m<ipython-input-12-191d14934ecd>\u001b[0m in \u001b[0;36m<cell line: 2>\u001b[0;34m()\u001b[0m\n\u001b[1;32m      1\u001b[0m \u001b[0;31m# @title\u001b[0m\u001b[0;34m\u001b[0m\u001b[0;34m\u001b[0m\u001b[0m\n\u001b[0;32m----> 2\u001b[0;31m \u001b[0mdisplay_quiz\u001b[0m\u001b[0;34m(\u001b[0m\u001b[0;34m\"https://raw.githubusercontent.com/teslasama/specialforumlf/main/question3.json\"\u001b[0m\u001b[0;34m)\u001b[0m\u001b[0;34m\u001b[0m\u001b[0;34m\u001b[0m\u001b[0m\n\u001b[0m",
            "\u001b[0;31mNameError\u001b[0m: name 'display_quiz' is not defined"
          ]
        }
      ]
    },
    {
      "cell_type": "markdown",
      "source": [
        "##From Linear to Nonlinear\n"
      ],
      "metadata": {
        "id": "K96cSEDxIAOd"
      }
    },
    {
      "cell_type": "markdown",
      "source": [
        "The prediction formula for deep learning is linear itself. But each of its terms is also a linear hypothesis made up in their turn of terms that are also a linear hypothesis.  \n",
        "\n",
        "$$\n",
        "    y = \\boldsymbol\\psi_1(w_1 x_1 + w_2 x_2 + ... + w_n x_n + ... + w_l x_l + b).\n",
        "$$\n",
        "\n",
        "$$\n",
        "    x_n = \\boldsymbol\\psi_2(q_1 p_1 + q_2 p_2 + ... + q_n p_n + ... + q_m p_m + c).\n",
        "$$\n",
        "\n",
        "$$\n",
        "    p_n = \\boldsymbol\\psi_3(h_1 t_1 + h_2 t_2 + ... + h_n t_n + ... + h_s t_s + d).\n",
        "$$\n",
        "\n",
        "This linear embedding process of many linear hypotheses is quite powerful. This approach is capable of estimating highly nonlinear decision boundaries, even though the hypothesis at every level is considered a simple linear combination with some activation function. Moreover, a total number of weights that need to be calculated using a deep learning algorithm is far less than the highly nonlinear interaction terms from regression analysis.\n",
        "\n",
        "So, we can overcome the limitations of linear models by integrating one or more hidden layers. The easiest way to do this is to stack many fully connected layers on top of one another. Each layer feeds into the layer above it until we generate outputs. We can think of the first $L-1$ layers as our representation and the final layer as our linear predictor. This architecture is commonly called a multilayer perceptron, often abbreviated as MLP."
      ],
      "metadata": {
        "id": "KF-QYVSxI9Xk"
      }
    },
    {
      "cell_type": "markdown",
      "source": [
        "##MLP working process\n",
        "\n"
      ],
      "metadata": {
        "id": "VOswADfdJhi2"
      }
    },
    {
      "cell_type": "code",
      "source": [
        "# @title\n",
        "import networkx as nx\n",
        "import matplotlib.animation as animation\n",
        "from itertools import cycle\n",
        "\n",
        "# Create a graph\n",
        "G = nx.Graph()\n",
        "\n",
        "# Add nodes\n",
        "G.add_nodes_from([1, 2, 3, 4, 5, 6, 7, 8, 9, 10, 11, 12, 13])\n",
        "\n",
        "# Add edges\n",
        "G.add_edges_from([\n",
        "    (1, 4), (1, 5), (1, 6), (1, 7),\n",
        "    (2, 4), (2, 5), (2, 6), (2, 7),\n",
        "    (3, 4), (3, 5), (3, 6), (3, 7),\n",
        "    (4, 8), (4, 9), (4, 10), (4, 11),\n",
        "    (5, 8), (5, 9), (5, 10), (5, 11),\n",
        "    (6, 8), (6, 9), (6, 10), (6, 11),\n",
        "    (7, 8), (7, 9), (7, 10), (7, 11),\n",
        "    (8, 12), (8, 13),\n",
        "    (9, 12), (9, 13),\n",
        "    (10, 12), (10, 13),\n",
        "    (11, 12), (11, 13)]\n",
        ")\n",
        "\n",
        "pos = {1: (1, 2.25), 2: (1, 1.5), 3: (1, 0.75),\n",
        "       4: (2, 3), 5: (2, 2), 6: (2, 1), 7: (2, 0),\n",
        "       8: (3, 3), 9: (3, 2), 10: (3, 1), 11: (3, 0),\n",
        "       12: (4, 2), 13: (4, 1)}\n",
        "\n",
        "node_colors = {1: 'skyblue', 2: 'skyblue', 3: 'skyblue',\n",
        "               4: 'orange', 5: 'orange', 6: 'orange', 7: 'orange',\n",
        "               8: 'orange', 9: 'orange', 10: 'orange', 11: 'orange',\n",
        "               12: 'green', 13: 'green'}\n",
        "\n",
        "fig, ax = plt.subplots()\n",
        "nx.draw(G, pos, with_labels=True, node_size=2000, node_color=[node_colors[node] for node in G.nodes],\n",
        "        font_size=10, font_color='black', font_weight='bold', edge_color='gray', linewidths=1, alpha=0.7)\n",
        "\n",
        "legend_labels = {\n",
        "    'Input Layer': 'skyblue',\n",
        "    'Hidden Layers': 'orange',\n",
        "    'Output Layer': 'green'\n",
        "}\n",
        "\n",
        "for label, color in legend_labels.items():\n",
        "    plt.scatter([], [], c=color, label=label, s=300)\n",
        "\n",
        "plt.legend(scatterpoints=1, frameon=False, labelspacing=1, bbox_to_anchor=(1.05, 1), loc='upper left')\n",
        "\n",
        "animated_edges = [\n",
        "    [(1, 4), (1, 5), (1, 6), (1, 7),\n",
        "     (2, 4), (2, 5), (2, 6), (2, 7),\n",
        "     (3, 4), (3, 5), (3, 6), (3, 7)],\n",
        "    [ (4, 8), (4, 9), (4, 10), (4, 11),\n",
        "      (5, 8), (5, 9), (5, 10), (5, 11),\n",
        "      (6, 8), (6, 9), (6, 10), (6, 11),\n",
        "      (7, 8), (7, 9), (7, 10), (7, 11) ],\n",
        "    [(8, 12), (8, 13), (9, 12), (9, 13), (10, 12), (10, 13),(11, 12), (11, 13)]\n",
        "]\n",
        "\n",
        "\n",
        "plt.show()\n"
      ],
      "metadata": {
        "id": "5dEATjUGTfK7",
        "cellView": "form"
      },
      "execution_count": null,
      "outputs": []
    },
    {
      "cell_type": "code",
      "source": [
        "# @title\n",
        "from pyvis.network import Network\n",
        "from IPython.display import display\n",
        "\n",
        "net = Network(height=\"750px\", width=\"100%\", notebook=True, cdn_resources='remote')\n",
        "net.add_node(1, label=\"Node 1\")\n",
        "net.add_node(2, label=\"Node 2\")\n",
        "net.add_edge(1, 2)"
      ],
      "metadata": {
        "id": "QWwfmj76i_mI",
        "cellView": "form"
      },
      "execution_count": null,
      "outputs": []
    },
    {
      "cell_type": "markdown",
      "source": [
        "Let's figure out what's going on here.\n",
        "\n",
        "* Input is the input of the neural network that receives the source data. Usually, it is required that they have the form of a matrix or a tensor (multidimensional matrix). Generally, there may be various inputs: for example, we can submit a picture and some other information about it to the neural network - we will transform them in different ways.\n",
        "* Further to the source data $X_0$ linear layers are applied, which turn them into intermediate (internal, hidden) representations $X_1, X_2, ... , X_n$, they are also called activations (not to be confused with activation functions).\n",
        "* Each of the performances $X_1, X_2, ... , X_n$ is subjected to non-linear transformation, turning into new intermediate representations $Z_1, Z_2, ... , Z_n$ respectively. Transition from $X_0$\n",
        "to new matrices (or tensors) $Z_1, Z_2, ... , Z_n$ can be considered as the construction of more informative feature descriptions of the original data.\n",
        "* Then there is another activation, and the result gets to the network output, that is, it is given back to the user.\n",
        "\n",
        "A neural network that has only linear layers and various activation functions is called a fully connected neural network or multilayer perceptron (MLP)."
      ],
      "metadata": {
        "id": "vmcW9SgK_PWr"
      }
    },
    {
      "cell_type": "markdown",
      "source": [
        "##Example"
      ],
      "metadata": {
        "id": "cMU5avRJJwO2"
      }
    },
    {
      "cell_type": "markdown",
      "source": [
        "In this section, we will perform employee churn prediction using Multi-Layer Perceptron. Employee churn prediction helps us in designing better employee retention plans and improving employee satisfaction. For its exploratory data analysis you can refer to the following article on Predicting Employee Churn in Python:\n",
        "\n",
        "Let’s start the model building hands-on in python."
      ],
      "metadata": {
        "id": "CcfkKAl1Jzec"
      }
    },
    {
      "cell_type": "code",
      "source": [
        "import numpy as np\n",
        "import pandas as pd\n",
        "\n",
        "# Load data\n",
        "data=pd.read_csv('HR_comma_sep.csv')\n",
        "\n",
        "data.head()"
      ],
      "metadata": {
        "id": "7cxcW0p88t-A",
        "colab": {
          "base_uri": "https://localhost:8080/",
          "height": 402
        },
        "outputId": "b80388a6-5bb1-4d64-972f-6b2db688dc11"
      },
      "execution_count": null,
      "outputs": [
        {
          "output_type": "error",
          "ename": "FileNotFoundError",
          "evalue": "ignored",
          "traceback": [
            "\u001b[0;31m---------------------------------------------------------------------------\u001b[0m",
            "\u001b[0;31mFileNotFoundError\u001b[0m                         Traceback (most recent call last)",
            "\u001b[0;32m<ipython-input-13-416cf26fbb00>\u001b[0m in \u001b[0;36m<cell line: 5>\u001b[0;34m()\u001b[0m\n\u001b[1;32m      3\u001b[0m \u001b[0;34m\u001b[0m\u001b[0m\n\u001b[1;32m      4\u001b[0m \u001b[0;31m# Load data\u001b[0m\u001b[0;34m\u001b[0m\u001b[0;34m\u001b[0m\u001b[0m\n\u001b[0;32m----> 5\u001b[0;31m \u001b[0mdata\u001b[0m\u001b[0;34m=\u001b[0m\u001b[0mpd\u001b[0m\u001b[0;34m.\u001b[0m\u001b[0mread_csv\u001b[0m\u001b[0;34m(\u001b[0m\u001b[0;34m'HR_comma_sep.csv'\u001b[0m\u001b[0;34m)\u001b[0m\u001b[0;34m\u001b[0m\u001b[0;34m\u001b[0m\u001b[0m\n\u001b[0m\u001b[1;32m      6\u001b[0m \u001b[0;34m\u001b[0m\u001b[0m\n\u001b[1;32m      7\u001b[0m \u001b[0mdata\u001b[0m\u001b[0;34m.\u001b[0m\u001b[0mhead\u001b[0m\u001b[0;34m(\u001b[0m\u001b[0;34m)\u001b[0m\u001b[0;34m\u001b[0m\u001b[0;34m\u001b[0m\u001b[0m\n",
            "\u001b[0;32m/usr/local/lib/python3.10/dist-packages/pandas/util/_decorators.py\u001b[0m in \u001b[0;36mwrapper\u001b[0;34m(*args, **kwargs)\u001b[0m\n\u001b[1;32m    209\u001b[0m                 \u001b[0;32melse\u001b[0m\u001b[0;34m:\u001b[0m\u001b[0;34m\u001b[0m\u001b[0;34m\u001b[0m\u001b[0m\n\u001b[1;32m    210\u001b[0m                     \u001b[0mkwargs\u001b[0m\u001b[0;34m[\u001b[0m\u001b[0mnew_arg_name\u001b[0m\u001b[0;34m]\u001b[0m \u001b[0;34m=\u001b[0m \u001b[0mnew_arg_value\u001b[0m\u001b[0;34m\u001b[0m\u001b[0;34m\u001b[0m\u001b[0m\n\u001b[0;32m--> 211\u001b[0;31m             \u001b[0;32mreturn\u001b[0m \u001b[0mfunc\u001b[0m\u001b[0;34m(\u001b[0m\u001b[0;34m*\u001b[0m\u001b[0margs\u001b[0m\u001b[0;34m,\u001b[0m \u001b[0;34m**\u001b[0m\u001b[0mkwargs\u001b[0m\u001b[0;34m)\u001b[0m\u001b[0;34m\u001b[0m\u001b[0;34m\u001b[0m\u001b[0m\n\u001b[0m\u001b[1;32m    212\u001b[0m \u001b[0;34m\u001b[0m\u001b[0m\n\u001b[1;32m    213\u001b[0m         \u001b[0;32mreturn\u001b[0m \u001b[0mcast\u001b[0m\u001b[0;34m(\u001b[0m\u001b[0mF\u001b[0m\u001b[0;34m,\u001b[0m \u001b[0mwrapper\u001b[0m\u001b[0;34m)\u001b[0m\u001b[0;34m\u001b[0m\u001b[0;34m\u001b[0m\u001b[0m\n",
            "\u001b[0;32m/usr/local/lib/python3.10/dist-packages/pandas/util/_decorators.py\u001b[0m in \u001b[0;36mwrapper\u001b[0;34m(*args, **kwargs)\u001b[0m\n\u001b[1;32m    329\u001b[0m                     \u001b[0mstacklevel\u001b[0m\u001b[0;34m=\u001b[0m\u001b[0mfind_stack_level\u001b[0m\u001b[0;34m(\u001b[0m\u001b[0;34m)\u001b[0m\u001b[0;34m,\u001b[0m\u001b[0;34m\u001b[0m\u001b[0;34m\u001b[0m\u001b[0m\n\u001b[1;32m    330\u001b[0m                 )\n\u001b[0;32m--> 331\u001b[0;31m             \u001b[0;32mreturn\u001b[0m \u001b[0mfunc\u001b[0m\u001b[0;34m(\u001b[0m\u001b[0;34m*\u001b[0m\u001b[0margs\u001b[0m\u001b[0;34m,\u001b[0m \u001b[0;34m**\u001b[0m\u001b[0mkwargs\u001b[0m\u001b[0;34m)\u001b[0m\u001b[0;34m\u001b[0m\u001b[0;34m\u001b[0m\u001b[0m\n\u001b[0m\u001b[1;32m    332\u001b[0m \u001b[0;34m\u001b[0m\u001b[0m\n\u001b[1;32m    333\u001b[0m         \u001b[0;31m# error: \"Callable[[VarArg(Any), KwArg(Any)], Any]\" has no\u001b[0m\u001b[0;34m\u001b[0m\u001b[0;34m\u001b[0m\u001b[0m\n",
            "\u001b[0;32m/usr/local/lib/python3.10/dist-packages/pandas/io/parsers/readers.py\u001b[0m in \u001b[0;36mread_csv\u001b[0;34m(filepath_or_buffer, sep, delimiter, header, names, index_col, usecols, squeeze, prefix, mangle_dupe_cols, dtype, engine, converters, true_values, false_values, skipinitialspace, skiprows, skipfooter, nrows, na_values, keep_default_na, na_filter, verbose, skip_blank_lines, parse_dates, infer_datetime_format, keep_date_col, date_parser, dayfirst, cache_dates, iterator, chunksize, compression, thousands, decimal, lineterminator, quotechar, quoting, doublequote, escapechar, comment, encoding, encoding_errors, dialect, error_bad_lines, warn_bad_lines, on_bad_lines, delim_whitespace, low_memory, memory_map, float_precision, storage_options)\u001b[0m\n\u001b[1;32m    948\u001b[0m     \u001b[0mkwds\u001b[0m\u001b[0;34m.\u001b[0m\u001b[0mupdate\u001b[0m\u001b[0;34m(\u001b[0m\u001b[0mkwds_defaults\u001b[0m\u001b[0;34m)\u001b[0m\u001b[0;34m\u001b[0m\u001b[0;34m\u001b[0m\u001b[0m\n\u001b[1;32m    949\u001b[0m \u001b[0;34m\u001b[0m\u001b[0m\n\u001b[0;32m--> 950\u001b[0;31m     \u001b[0;32mreturn\u001b[0m \u001b[0m_read\u001b[0m\u001b[0;34m(\u001b[0m\u001b[0mfilepath_or_buffer\u001b[0m\u001b[0;34m,\u001b[0m \u001b[0mkwds\u001b[0m\u001b[0;34m)\u001b[0m\u001b[0;34m\u001b[0m\u001b[0;34m\u001b[0m\u001b[0m\n\u001b[0m\u001b[1;32m    951\u001b[0m \u001b[0;34m\u001b[0m\u001b[0m\n\u001b[1;32m    952\u001b[0m \u001b[0;34m\u001b[0m\u001b[0m\n",
            "\u001b[0;32m/usr/local/lib/python3.10/dist-packages/pandas/io/parsers/readers.py\u001b[0m in \u001b[0;36m_read\u001b[0;34m(filepath_or_buffer, kwds)\u001b[0m\n\u001b[1;32m    603\u001b[0m \u001b[0;34m\u001b[0m\u001b[0m\n\u001b[1;32m    604\u001b[0m     \u001b[0;31m# Create the parser.\u001b[0m\u001b[0;34m\u001b[0m\u001b[0;34m\u001b[0m\u001b[0m\n\u001b[0;32m--> 605\u001b[0;31m     \u001b[0mparser\u001b[0m \u001b[0;34m=\u001b[0m \u001b[0mTextFileReader\u001b[0m\u001b[0;34m(\u001b[0m\u001b[0mfilepath_or_buffer\u001b[0m\u001b[0;34m,\u001b[0m \u001b[0;34m**\u001b[0m\u001b[0mkwds\u001b[0m\u001b[0;34m)\u001b[0m\u001b[0;34m\u001b[0m\u001b[0;34m\u001b[0m\u001b[0m\n\u001b[0m\u001b[1;32m    606\u001b[0m \u001b[0;34m\u001b[0m\u001b[0m\n\u001b[1;32m    607\u001b[0m     \u001b[0;32mif\u001b[0m \u001b[0mchunksize\u001b[0m \u001b[0;32mor\u001b[0m \u001b[0miterator\u001b[0m\u001b[0;34m:\u001b[0m\u001b[0;34m\u001b[0m\u001b[0;34m\u001b[0m\u001b[0m\n",
            "\u001b[0;32m/usr/local/lib/python3.10/dist-packages/pandas/io/parsers/readers.py\u001b[0m in \u001b[0;36m__init__\u001b[0;34m(self, f, engine, **kwds)\u001b[0m\n\u001b[1;32m   1440\u001b[0m \u001b[0;34m\u001b[0m\u001b[0m\n\u001b[1;32m   1441\u001b[0m         \u001b[0mself\u001b[0m\u001b[0;34m.\u001b[0m\u001b[0mhandles\u001b[0m\u001b[0;34m:\u001b[0m \u001b[0mIOHandles\u001b[0m \u001b[0;34m|\u001b[0m \u001b[0;32mNone\u001b[0m \u001b[0;34m=\u001b[0m \u001b[0;32mNone\u001b[0m\u001b[0;34m\u001b[0m\u001b[0;34m\u001b[0m\u001b[0m\n\u001b[0;32m-> 1442\u001b[0;31m         \u001b[0mself\u001b[0m\u001b[0;34m.\u001b[0m\u001b[0m_engine\u001b[0m \u001b[0;34m=\u001b[0m \u001b[0mself\u001b[0m\u001b[0;34m.\u001b[0m\u001b[0m_make_engine\u001b[0m\u001b[0;34m(\u001b[0m\u001b[0mf\u001b[0m\u001b[0;34m,\u001b[0m \u001b[0mself\u001b[0m\u001b[0;34m.\u001b[0m\u001b[0mengine\u001b[0m\u001b[0;34m)\u001b[0m\u001b[0;34m\u001b[0m\u001b[0;34m\u001b[0m\u001b[0m\n\u001b[0m\u001b[1;32m   1443\u001b[0m \u001b[0;34m\u001b[0m\u001b[0m\n\u001b[1;32m   1444\u001b[0m     \u001b[0;32mdef\u001b[0m \u001b[0mclose\u001b[0m\u001b[0;34m(\u001b[0m\u001b[0mself\u001b[0m\u001b[0;34m)\u001b[0m \u001b[0;34m->\u001b[0m \u001b[0;32mNone\u001b[0m\u001b[0;34m:\u001b[0m\u001b[0;34m\u001b[0m\u001b[0;34m\u001b[0m\u001b[0m\n",
            "\u001b[0;32m/usr/local/lib/python3.10/dist-packages/pandas/io/parsers/readers.py\u001b[0m in \u001b[0;36m_make_engine\u001b[0;34m(self, f, engine)\u001b[0m\n\u001b[1;32m   1733\u001b[0m                 \u001b[0;32mif\u001b[0m \u001b[0;34m\"b\"\u001b[0m \u001b[0;32mnot\u001b[0m \u001b[0;32min\u001b[0m \u001b[0mmode\u001b[0m\u001b[0;34m:\u001b[0m\u001b[0;34m\u001b[0m\u001b[0;34m\u001b[0m\u001b[0m\n\u001b[1;32m   1734\u001b[0m                     \u001b[0mmode\u001b[0m \u001b[0;34m+=\u001b[0m \u001b[0;34m\"b\"\u001b[0m\u001b[0;34m\u001b[0m\u001b[0;34m\u001b[0m\u001b[0m\n\u001b[0;32m-> 1735\u001b[0;31m             self.handles = get_handle(\n\u001b[0m\u001b[1;32m   1736\u001b[0m                 \u001b[0mf\u001b[0m\u001b[0;34m,\u001b[0m\u001b[0;34m\u001b[0m\u001b[0;34m\u001b[0m\u001b[0m\n\u001b[1;32m   1737\u001b[0m                 \u001b[0mmode\u001b[0m\u001b[0;34m,\u001b[0m\u001b[0;34m\u001b[0m\u001b[0;34m\u001b[0m\u001b[0m\n",
            "\u001b[0;32m/usr/local/lib/python3.10/dist-packages/pandas/io/common.py\u001b[0m in \u001b[0;36mget_handle\u001b[0;34m(path_or_buf, mode, encoding, compression, memory_map, is_text, errors, storage_options)\u001b[0m\n\u001b[1;32m    854\u001b[0m         \u001b[0;32mif\u001b[0m \u001b[0mioargs\u001b[0m\u001b[0;34m.\u001b[0m\u001b[0mencoding\u001b[0m \u001b[0;32mand\u001b[0m \u001b[0;34m\"b\"\u001b[0m \u001b[0;32mnot\u001b[0m \u001b[0;32min\u001b[0m \u001b[0mioargs\u001b[0m\u001b[0;34m.\u001b[0m\u001b[0mmode\u001b[0m\u001b[0;34m:\u001b[0m\u001b[0;34m\u001b[0m\u001b[0;34m\u001b[0m\u001b[0m\n\u001b[1;32m    855\u001b[0m             \u001b[0;31m# Encoding\u001b[0m\u001b[0;34m\u001b[0m\u001b[0;34m\u001b[0m\u001b[0m\n\u001b[0;32m--> 856\u001b[0;31m             handle = open(\n\u001b[0m\u001b[1;32m    857\u001b[0m                 \u001b[0mhandle\u001b[0m\u001b[0;34m,\u001b[0m\u001b[0;34m\u001b[0m\u001b[0;34m\u001b[0m\u001b[0m\n\u001b[1;32m    858\u001b[0m                 \u001b[0mioargs\u001b[0m\u001b[0;34m.\u001b[0m\u001b[0mmode\u001b[0m\u001b[0;34m,\u001b[0m\u001b[0;34m\u001b[0m\u001b[0;34m\u001b[0m\u001b[0m\n",
            "\u001b[0;31mFileNotFoundError\u001b[0m: [Errno 2] No such file or directory: 'HR_comma_sep.csv'"
          ]
        }
      ]
    },
    {
      "cell_type": "markdown",
      "source": [
        "Lots of machine learning algorithms require numerical input data, so you need to represent categorical columns in a numerical column. In order to encode this data, you could map each value to a number. e.g. Salary column’s value can be represented as low:0, medium:1, and high:2. This process is known as label encoding. In sklearn, we can do this using LabelEncoder.\n",
        "\n",
        "Here, we imported the preprocessing module and created the Label Encoder object. Using this LabelEncoder object you fit and transform the “salary” and “Departments “ column into the numeric column."
      ],
      "metadata": {
        "id": "vxqakLyQCO4x"
      }
    },
    {
      "cell_type": "code",
      "source": [
        "# Import LabelEncoder\n",
        "from sklearn import preprocessing\n",
        "\n",
        "# Creating labelEncoder\n",
        "le = preprocessing.LabelEncoder()\n",
        "\n",
        "# Converting string labels into numbers.\n",
        "data['salary']=le.fit_transform(data['salary'])\n",
        "data['Departments ']=le.fit_transform(data['sales'])"
      ],
      "metadata": {
        "id": "qHfGFMBd-3OR",
        "colab": {
          "base_uri": "https://localhost:8080/",
          "height": 225
        },
        "outputId": "8eab2aab-a6de-42b2-c1e5-4cd98c3717a6"
      },
      "execution_count": null,
      "outputs": [
        {
          "output_type": "error",
          "ename": "NameError",
          "evalue": "ignored",
          "traceback": [
            "\u001b[0;31m---------------------------------------------------------------------------\u001b[0m",
            "\u001b[0;31mNameError\u001b[0m                                 Traceback (most recent call last)",
            "\u001b[0;32m<ipython-input-14-19bab257f008>\u001b[0m in \u001b[0;36m<cell line: 8>\u001b[0;34m()\u001b[0m\n\u001b[1;32m      6\u001b[0m \u001b[0;34m\u001b[0m\u001b[0m\n\u001b[1;32m      7\u001b[0m \u001b[0;31m# Converting string labels into numbers.\u001b[0m\u001b[0;34m\u001b[0m\u001b[0;34m\u001b[0m\u001b[0m\n\u001b[0;32m----> 8\u001b[0;31m \u001b[0mdata\u001b[0m\u001b[0;34m[\u001b[0m\u001b[0;34m'salary'\u001b[0m\u001b[0;34m]\u001b[0m\u001b[0;34m=\u001b[0m\u001b[0mle\u001b[0m\u001b[0;34m.\u001b[0m\u001b[0mfit_transform\u001b[0m\u001b[0;34m(\u001b[0m\u001b[0mdata\u001b[0m\u001b[0;34m[\u001b[0m\u001b[0;34m'salary'\u001b[0m\u001b[0;34m]\u001b[0m\u001b[0;34m)\u001b[0m\u001b[0;34m\u001b[0m\u001b[0;34m\u001b[0m\u001b[0m\n\u001b[0m\u001b[1;32m      9\u001b[0m \u001b[0mdata\u001b[0m\u001b[0;34m[\u001b[0m\u001b[0;34m'Departments '\u001b[0m\u001b[0;34m]\u001b[0m\u001b[0;34m=\u001b[0m\u001b[0mle\u001b[0m\u001b[0;34m.\u001b[0m\u001b[0mfit_transform\u001b[0m\u001b[0;34m(\u001b[0m\u001b[0mdata\u001b[0m\u001b[0;34m[\u001b[0m\u001b[0;34m'sales'\u001b[0m\u001b[0;34m]\u001b[0m\u001b[0;34m)\u001b[0m\u001b[0;34m\u001b[0m\u001b[0;34m\u001b[0m\u001b[0m\n",
            "\u001b[0;31mNameError\u001b[0m: name 'data' is not defined"
          ]
        }
      ]
    },
    {
      "cell_type": "markdown",
      "source": [
        "In order to assess the model performance, we need to divide the dataset into a training set and a test set. Let’s split dataset by using function train_test_split(). you need to pass basically 3 parameters features, target, and test_set size."
      ],
      "metadata": {
        "id": "m7xe_nLiCkq_"
      }
    },
    {
      "cell_type": "code",
      "source": [
        "# Spliting data into Feature and\n",
        "X=data[['satisfaction_level', 'last_evaluation', 'number_project', 'average_montly_hours', 'time_spend_company', 'Work_accident', 'promotion_last_5years', 'Departments ', 'salary']]\n",
        "y=data['left']\n",
        "\n",
        "# Import train_test_split function\n",
        "from sklearn.model_selection import train_test_split\n",
        "\n",
        "# Split dataset into training set and test set\n",
        "X_train, X_test, y_train, y_test = train_test_split(X, y, test_size=0.3, random_state=42)  # 70% training and 30% test"
      ],
      "metadata": {
        "id": "up4tcu8DCoJv"
      },
      "execution_count": null,
      "outputs": []
    },
    {
      "cell_type": "markdown",
      "source": [
        "Let’s build an employee churn prediction model. Here, our objective is to predict churn using MLPClassifier.\n",
        "\n",
        "First, import the MLPClassifier module and create MLP Classifier object using MLPClassifier() function. Then, fit your model on the train set using fit() and perform prediction on the test set using predict()."
      ],
      "metadata": {
        "id": "yHm1B7SNCpZL"
      }
    },
    {
      "cell_type": "code",
      "source": [
        "# Import MLPClassifer\n",
        "from sklearn.neural_network import MLPClassifier\n",
        "\n",
        "# Create model object\n",
        "clf = MLPClassifier(hidden_layer_sizes=(6,5),\n",
        "                    random_state=5,\n",
        "                    verbose=True,\n",
        "                    learning_rate_init=0.01)\n",
        "\n",
        "# Fit data onto the model\n",
        "clf.fit(X_train,y_train)"
      ],
      "metadata": {
        "id": "lgqQe3ZMCsfL"
      },
      "execution_count": null,
      "outputs": []
    },
    {
      "cell_type": "markdown",
      "source": [
        "Next, we will make predictions on the test dataset and assess model accuracy based on available actual labels of the test dataset."
      ],
      "metadata": {
        "id": "kWiaXpccCvv-"
      }
    },
    {
      "cell_type": "code",
      "source": [
        "# Make prediction on test dataset\n",
        "ypred=clf.predict(X_test)\n",
        "\n",
        "# Import accuracy score\n",
        "from sklearn.metrics import accuracy_score\n",
        "\n",
        "# Calcuate accuracy\n",
        "accuracy_score(y_test,ypred)"
      ],
      "metadata": {
        "id": "xtFgUcCnC5jp"
      },
      "execution_count": null,
      "outputs": []
    },
    {
      "cell_type": "markdown",
      "source": [
        "Here classification rate of 93.8%, considered as good accuracy."
      ],
      "metadata": {
        "id": "pRVU1AINDAsT"
      }
    }
  ],
  "metadata": {
    "kernelspec": {
      "display_name": "Python 3 (ipykernel)",
      "language": "python",
      "name": "python3"
    },
    "language_info": {
      "codemirror_mode": {
        "name": "ipython",
        "version": 3
      },
      "file_extension": ".py",
      "mimetype": "text/x-python",
      "name": "python",
      "nbconvert_exporter": "python",
      "pygments_lexer": "ipython3",
      "version": "3.8.2"
    },
    "colab": {
      "provenance": [],
      "include_colab_link": true
    },
    "widgets": {
      "application/vnd.jupyter.widget-state+json": {
        "7cc6793f99804148ab89553f902cdd00": {
          "model_module": "@jupyter-widgets/controls",
          "model_name": "VBoxModel",
          "model_module_version": "1.5.0",
          "state": {
            "_dom_classes": [
              "widget-interact"
            ],
            "_model_module": "@jupyter-widgets/controls",
            "_model_module_version": "1.5.0",
            "_model_name": "VBoxModel",
            "_view_count": null,
            "_view_module": "@jupyter-widgets/controls",
            "_view_module_version": "1.5.0",
            "_view_name": "VBoxView",
            "box_style": "",
            "children": [
              "IPY_MODEL_b5e1228016df4c45af7ab6bd42e6588b",
              "IPY_MODEL_f35886353dfc45a39972b9419be4fbc1",
              "IPY_MODEL_a786b96b81894aa9ac588fe77509d2bc",
              "IPY_MODEL_1b35b1d03dfc410c8476311de2d50f24",
              "IPY_MODEL_3903e91a1f0b4cbfb80239df7692470d",
              "IPY_MODEL_ffb3b21a1ac9496fa79ba5ac5fa5ed48"
            ],
            "layout": "IPY_MODEL_f96f452b2c9043ffb0c8b8f47e471eaf"
          }
        },
        "b5e1228016df4c45af7ab6bd42e6588b": {
          "model_module": "@jupyter-widgets/controls",
          "model_name": "FloatSliderModel",
          "model_module_version": "1.5.0",
          "state": {
            "_dom_classes": [],
            "_model_module": "@jupyter-widgets/controls",
            "_model_module_version": "1.5.0",
            "_model_name": "FloatSliderModel",
            "_view_count": null,
            "_view_module": "@jupyter-widgets/controls",
            "_view_module_version": "1.5.0",
            "_view_name": "FloatSliderView",
            "continuous_update": true,
            "description": "X Value:",
            "description_tooltip": null,
            "disabled": false,
            "layout": "IPY_MODEL_4ac318705d13467d8b0a588c20c0c6b8",
            "max": 10,
            "min": -10,
            "orientation": "horizontal",
            "readout": true,
            "readout_format": ".2f",
            "step": 0.01,
            "style": "IPY_MODEL_d070e4d88bea4fce881c9c7a6f446326",
            "value": 10
          }
        },
        "f35886353dfc45a39972b9419be4fbc1": {
          "model_module": "@jupyter-widgets/controls",
          "model_name": "CheckboxModel",
          "model_module_version": "1.5.0",
          "state": {
            "_dom_classes": [],
            "_model_module": "@jupyter-widgets/controls",
            "_model_module_version": "1.5.0",
            "_model_name": "CheckboxModel",
            "_view_count": null,
            "_view_module": "@jupyter-widgets/controls",
            "_view_module_version": "1.5.0",
            "_view_name": "CheckboxView",
            "description": "Sigmoid",
            "description_tooltip": null,
            "disabled": false,
            "indent": false,
            "layout": "IPY_MODEL_2d4e992714e0403da2fb9d38241ba25d",
            "style": "IPY_MODEL_073f8eb533e54a1d98a9ac05fcf6ab79",
            "value": true
          }
        },
        "a786b96b81894aa9ac588fe77509d2bc": {
          "model_module": "@jupyter-widgets/controls",
          "model_name": "CheckboxModel",
          "model_module_version": "1.5.0",
          "state": {
            "_dom_classes": [],
            "_model_module": "@jupyter-widgets/controls",
            "_model_module_version": "1.5.0",
            "_model_name": "CheckboxModel",
            "_view_count": null,
            "_view_module": "@jupyter-widgets/controls",
            "_view_module_version": "1.5.0",
            "_view_name": "CheckboxView",
            "description": "ReLU",
            "description_tooltip": null,
            "disabled": false,
            "indent": false,
            "layout": "IPY_MODEL_b599c7f9f718473fa8ffccf4432b5ca0",
            "style": "IPY_MODEL_bfff051887084754b6a75a52473b14e8",
            "value": true
          }
        },
        "1b35b1d03dfc410c8476311de2d50f24": {
          "model_module": "@jupyter-widgets/controls",
          "model_name": "CheckboxModel",
          "model_module_version": "1.5.0",
          "state": {
            "_dom_classes": [],
            "_model_module": "@jupyter-widgets/controls",
            "_model_module_version": "1.5.0",
            "_model_name": "CheckboxModel",
            "_view_count": null,
            "_view_module": "@jupyter-widgets/controls",
            "_view_module_version": "1.5.0",
            "_view_name": "CheckboxView",
            "description": "Tanh",
            "description_tooltip": null,
            "disabled": false,
            "indent": false,
            "layout": "IPY_MODEL_88aa24936559421a8ec243767892540b",
            "style": "IPY_MODEL_aed0acd3c45643c78fa7f2db183c694e",
            "value": true
          }
        },
        "3903e91a1f0b4cbfb80239df7692470d": {
          "model_module": "@jupyter-widgets/controls",
          "model_name": "CheckboxModel",
          "model_module_version": "1.5.0",
          "state": {
            "_dom_classes": [],
            "_model_module": "@jupyter-widgets/controls",
            "_model_module_version": "1.5.0",
            "_model_name": "CheckboxModel",
            "_view_count": null,
            "_view_module": "@jupyter-widgets/controls",
            "_view_module_version": "1.5.0",
            "_view_name": "CheckboxView",
            "description": "Softplus",
            "description_tooltip": null,
            "disabled": false,
            "indent": false,
            "layout": "IPY_MODEL_4cb0b4be66334b94af48a9df0bebf606",
            "style": "IPY_MODEL_643a3ffe23fa464eb34013485a4fafad",
            "value": true
          }
        },
        "ffb3b21a1ac9496fa79ba5ac5fa5ed48": {
          "model_module": "@jupyter-widgets/output",
          "model_name": "OutputModel",
          "model_module_version": "1.0.0",
          "state": {
            "_dom_classes": [],
            "_model_module": "@jupyter-widgets/output",
            "_model_module_version": "1.0.0",
            "_model_name": "OutputModel",
            "_view_count": null,
            "_view_module": "@jupyter-widgets/output",
            "_view_module_version": "1.0.0",
            "_view_name": "OutputView",
            "layout": "IPY_MODEL_1ae4de9b3d1b49c0974c3bbe63011b7d",
            "msg_id": "",
            "outputs": [
              {
                "output_type": "display_data",
                "data": {
                  "text/plain": "<Figure size 800x600 with 1 Axes>",
                  "image/png": "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\n"
                },
                "metadata": {}
              }
            ]
          }
        },
        "f96f452b2c9043ffb0c8b8f47e471eaf": {
          "model_module": "@jupyter-widgets/base",
          "model_name": "LayoutModel",
          "model_module_version": "1.2.0",
          "state": {
            "_model_module": "@jupyter-widgets/base",
            "_model_module_version": "1.2.0",
            "_model_name": "LayoutModel",
            "_view_count": null,
            "_view_module": "@jupyter-widgets/base",
            "_view_module_version": "1.2.0",
            "_view_name": "LayoutView",
            "align_content": null,
            "align_items": null,
            "align_self": null,
            "border": null,
            "bottom": null,
            "display": null,
            "flex": null,
            "flex_flow": null,
            "grid_area": null,
            "grid_auto_columns": null,
            "grid_auto_flow": null,
            "grid_auto_rows": null,
            "grid_column": null,
            "grid_gap": null,
            "grid_row": null,
            "grid_template_areas": null,
            "grid_template_columns": null,
            "grid_template_rows": null,
            "height": null,
            "justify_content": null,
            "justify_items": null,
            "left": null,
            "margin": null,
            "max_height": null,
            "max_width": null,
            "min_height": null,
            "min_width": null,
            "object_fit": null,
            "object_position": null,
            "order": null,
            "overflow": null,
            "overflow_x": null,
            "overflow_y": null,
            "padding": null,
            "right": null,
            "top": null,
            "visibility": null,
            "width": null
          }
        },
        "4ac318705d13467d8b0a588c20c0c6b8": {
          "model_module": "@jupyter-widgets/base",
          "model_name": "LayoutModel",
          "model_module_version": "1.2.0",
          "state": {
            "_model_module": "@jupyter-widgets/base",
            "_model_module_version": "1.2.0",
            "_model_name": "LayoutModel",
            "_view_count": null,
            "_view_module": "@jupyter-widgets/base",
            "_view_module_version": "1.2.0",
            "_view_name": "LayoutView",
            "align_content": null,
            "align_items": null,
            "align_self": null,
            "border": null,
            "bottom": null,
            "display": null,
            "flex": null,
            "flex_flow": null,
            "grid_area": null,
            "grid_auto_columns": null,
            "grid_auto_flow": null,
            "grid_auto_rows": null,
            "grid_column": null,
            "grid_gap": null,
            "grid_row": null,
            "grid_template_areas": null,
            "grid_template_columns": null,
            "grid_template_rows": null,
            "height": null,
            "justify_content": null,
            "justify_items": null,
            "left": null,
            "margin": null,
            "max_height": null,
            "max_width": null,
            "min_height": null,
            "min_width": null,
            "object_fit": null,
            "object_position": null,
            "order": null,
            "overflow": null,
            "overflow_x": null,
            "overflow_y": null,
            "padding": null,
            "right": null,
            "top": null,
            "visibility": null,
            "width": null
          }
        },
        "d070e4d88bea4fce881c9c7a6f446326": {
          "model_module": "@jupyter-widgets/controls",
          "model_name": "SliderStyleModel",
          "model_module_version": "1.5.0",
          "state": {
            "_model_module": "@jupyter-widgets/controls",
            "_model_module_version": "1.5.0",
            "_model_name": "SliderStyleModel",
            "_view_count": null,
            "_view_module": "@jupyter-widgets/base",
            "_view_module_version": "1.2.0",
            "_view_name": "StyleView",
            "description_width": "",
            "handle_color": null
          }
        },
        "2d4e992714e0403da2fb9d38241ba25d": {
          "model_module": "@jupyter-widgets/base",
          "model_name": "LayoutModel",
          "model_module_version": "1.2.0",
          "state": {
            "_model_module": "@jupyter-widgets/base",
            "_model_module_version": "1.2.0",
            "_model_name": "LayoutModel",
            "_view_count": null,
            "_view_module": "@jupyter-widgets/base",
            "_view_module_version": "1.2.0",
            "_view_name": "LayoutView",
            "align_content": null,
            "align_items": null,
            "align_self": null,
            "border": null,
            "bottom": null,
            "display": null,
            "flex": null,
            "flex_flow": null,
            "grid_area": null,
            "grid_auto_columns": null,
            "grid_auto_flow": null,
            "grid_auto_rows": null,
            "grid_column": null,
            "grid_gap": null,
            "grid_row": null,
            "grid_template_areas": null,
            "grid_template_columns": null,
            "grid_template_rows": null,
            "height": null,
            "justify_content": null,
            "justify_items": null,
            "left": null,
            "margin": null,
            "max_height": null,
            "max_width": null,
            "min_height": null,
            "min_width": null,
            "object_fit": null,
            "object_position": null,
            "order": null,
            "overflow": null,
            "overflow_x": null,
            "overflow_y": null,
            "padding": null,
            "right": null,
            "top": null,
            "visibility": null,
            "width": null
          }
        },
        "073f8eb533e54a1d98a9ac05fcf6ab79": {
          "model_module": "@jupyter-widgets/controls",
          "model_name": "DescriptionStyleModel",
          "model_module_version": "1.5.0",
          "state": {
            "_model_module": "@jupyter-widgets/controls",
            "_model_module_version": "1.5.0",
            "_model_name": "DescriptionStyleModel",
            "_view_count": null,
            "_view_module": "@jupyter-widgets/base",
            "_view_module_version": "1.2.0",
            "_view_name": "StyleView",
            "description_width": ""
          }
        },
        "b599c7f9f718473fa8ffccf4432b5ca0": {
          "model_module": "@jupyter-widgets/base",
          "model_name": "LayoutModel",
          "model_module_version": "1.2.0",
          "state": {
            "_model_module": "@jupyter-widgets/base",
            "_model_module_version": "1.2.0",
            "_model_name": "LayoutModel",
            "_view_count": null,
            "_view_module": "@jupyter-widgets/base",
            "_view_module_version": "1.2.0",
            "_view_name": "LayoutView",
            "align_content": null,
            "align_items": null,
            "align_self": null,
            "border": null,
            "bottom": null,
            "display": null,
            "flex": null,
            "flex_flow": null,
            "grid_area": null,
            "grid_auto_columns": null,
            "grid_auto_flow": null,
            "grid_auto_rows": null,
            "grid_column": null,
            "grid_gap": null,
            "grid_row": null,
            "grid_template_areas": null,
            "grid_template_columns": null,
            "grid_template_rows": null,
            "height": null,
            "justify_content": null,
            "justify_items": null,
            "left": null,
            "margin": null,
            "max_height": null,
            "max_width": null,
            "min_height": null,
            "min_width": null,
            "object_fit": null,
            "object_position": null,
            "order": null,
            "overflow": null,
            "overflow_x": null,
            "overflow_y": null,
            "padding": null,
            "right": null,
            "top": null,
            "visibility": null,
            "width": null
          }
        },
        "bfff051887084754b6a75a52473b14e8": {
          "model_module": "@jupyter-widgets/controls",
          "model_name": "DescriptionStyleModel",
          "model_module_version": "1.5.0",
          "state": {
            "_model_module": "@jupyter-widgets/controls",
            "_model_module_version": "1.5.0",
            "_model_name": "DescriptionStyleModel",
            "_view_count": null,
            "_view_module": "@jupyter-widgets/base",
            "_view_module_version": "1.2.0",
            "_view_name": "StyleView",
            "description_width": ""
          }
        },
        "88aa24936559421a8ec243767892540b": {
          "model_module": "@jupyter-widgets/base",
          "model_name": "LayoutModel",
          "model_module_version": "1.2.0",
          "state": {
            "_model_module": "@jupyter-widgets/base",
            "_model_module_version": "1.2.0",
            "_model_name": "LayoutModel",
            "_view_count": null,
            "_view_module": "@jupyter-widgets/base",
            "_view_module_version": "1.2.0",
            "_view_name": "LayoutView",
            "align_content": null,
            "align_items": null,
            "align_self": null,
            "border": null,
            "bottom": null,
            "display": null,
            "flex": null,
            "flex_flow": null,
            "grid_area": null,
            "grid_auto_columns": null,
            "grid_auto_flow": null,
            "grid_auto_rows": null,
            "grid_column": null,
            "grid_gap": null,
            "grid_row": null,
            "grid_template_areas": null,
            "grid_template_columns": null,
            "grid_template_rows": null,
            "height": null,
            "justify_content": null,
            "justify_items": null,
            "left": null,
            "margin": null,
            "max_height": null,
            "max_width": null,
            "min_height": null,
            "min_width": null,
            "object_fit": null,
            "object_position": null,
            "order": null,
            "overflow": null,
            "overflow_x": null,
            "overflow_y": null,
            "padding": null,
            "right": null,
            "top": null,
            "visibility": null,
            "width": null
          }
        },
        "aed0acd3c45643c78fa7f2db183c694e": {
          "model_module": "@jupyter-widgets/controls",
          "model_name": "DescriptionStyleModel",
          "model_module_version": "1.5.0",
          "state": {
            "_model_module": "@jupyter-widgets/controls",
            "_model_module_version": "1.5.0",
            "_model_name": "DescriptionStyleModel",
            "_view_count": null,
            "_view_module": "@jupyter-widgets/base",
            "_view_module_version": "1.2.0",
            "_view_name": "StyleView",
            "description_width": ""
          }
        },
        "4cb0b4be66334b94af48a9df0bebf606": {
          "model_module": "@jupyter-widgets/base",
          "model_name": "LayoutModel",
          "model_module_version": "1.2.0",
          "state": {
            "_model_module": "@jupyter-widgets/base",
            "_model_module_version": "1.2.0",
            "_model_name": "LayoutModel",
            "_view_count": null,
            "_view_module": "@jupyter-widgets/base",
            "_view_module_version": "1.2.0",
            "_view_name": "LayoutView",
            "align_content": null,
            "align_items": null,
            "align_self": null,
            "border": null,
            "bottom": null,
            "display": null,
            "flex": null,
            "flex_flow": null,
            "grid_area": null,
            "grid_auto_columns": null,
            "grid_auto_flow": null,
            "grid_auto_rows": null,
            "grid_column": null,
            "grid_gap": null,
            "grid_row": null,
            "grid_template_areas": null,
            "grid_template_columns": null,
            "grid_template_rows": null,
            "height": null,
            "justify_content": null,
            "justify_items": null,
            "left": null,
            "margin": null,
            "max_height": null,
            "max_width": null,
            "min_height": null,
            "min_width": null,
            "object_fit": null,
            "object_position": null,
            "order": null,
            "overflow": null,
            "overflow_x": null,
            "overflow_y": null,
            "padding": null,
            "right": null,
            "top": null,
            "visibility": null,
            "width": null
          }
        },
        "643a3ffe23fa464eb34013485a4fafad": {
          "model_module": "@jupyter-widgets/controls",
          "model_name": "DescriptionStyleModel",
          "model_module_version": "1.5.0",
          "state": {
            "_model_module": "@jupyter-widgets/controls",
            "_model_module_version": "1.5.0",
            "_model_name": "DescriptionStyleModel",
            "_view_count": null,
            "_view_module": "@jupyter-widgets/base",
            "_view_module_version": "1.2.0",
            "_view_name": "StyleView",
            "description_width": ""
          }
        },
        "1ae4de9b3d1b49c0974c3bbe63011b7d": {
          "model_module": "@jupyter-widgets/base",
          "model_name": "LayoutModel",
          "model_module_version": "1.2.0",
          "state": {
            "_model_module": "@jupyter-widgets/base",
            "_model_module_version": "1.2.0",
            "_model_name": "LayoutModel",
            "_view_count": null,
            "_view_module": "@jupyter-widgets/base",
            "_view_module_version": "1.2.0",
            "_view_name": "LayoutView",
            "align_content": null,
            "align_items": null,
            "align_self": null,
            "border": null,
            "bottom": null,
            "display": null,
            "flex": null,
            "flex_flow": null,
            "grid_area": null,
            "grid_auto_columns": null,
            "grid_auto_flow": null,
            "grid_auto_rows": null,
            "grid_column": null,
            "grid_gap": null,
            "grid_row": null,
            "grid_template_areas": null,
            "grid_template_columns": null,
            "grid_template_rows": null,
            "height": null,
            "justify_content": null,
            "justify_items": null,
            "left": null,
            "margin": null,
            "max_height": null,
            "max_width": null,
            "min_height": null,
            "min_width": null,
            "object_fit": null,
            "object_position": null,
            "order": null,
            "overflow": null,
            "overflow_x": null,
            "overflow_y": null,
            "padding": null,
            "right": null,
            "top": null,
            "visibility": null,
            "width": null
          }
        }
      }
    }
  },
  "nbformat": 4,
  "nbformat_minor": 0
}