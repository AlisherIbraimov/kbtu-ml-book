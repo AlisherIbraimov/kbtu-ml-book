{
  "cells": [
    {
      "cell_type": "markdown",
      "metadata": {
        "id": "view-in-github",
        "colab_type": "text"
      },
      "source": [
        "<a href=\"https://colab.research.google.com/github/mdainur/kbtu-ml-book/blob/mlp-layers/mlp/layers.ipynb\" target=\"_parent\"><img src=\"https://colab.research.google.com/assets/colab-badge.svg\" alt=\"Open In Colab\"/></a>"
      ]
    },
    {
      "cell_type": "markdown",
      "metadata": {
        "id": "6manaTiqtTe2"
      },
      "source": [
        "# Layers of MLP\n",
        "\n",
        "From mathematical point of view MLP is a smooth function $F$ which is constructed as a composition of some other functions\n",
        "\n",
        "$$\n",
        "F(\\boldsymbol x) = (f_{L} \\circ f_{L-1} \\circ\\ldots \\circ f_2 \\circ f_1)(\\boldsymbol x),\\quad\n",
        "\\boldsymbol x \\in \\mathbb R^{n_0}\n",
        "$$\n",
        "\n",
        "Each function\n",
        "\n",
        "$$\n",
        "    f_\\ell \\colon \\mathbb R^{n_{\\ell - 1}} \\to \\mathbb R^{n_\\ell}\n",
        "$$\n",
        "\n",
        "is called a **layer**; it converts representation of $(\\ell-1)$-th layer\n",
        "\n",
        "$$\n",
        "    \\boldsymbol x_{\\ell -1} \\in \\mathbb R^{n_{\\ell - 1}}\n",
        "$$\n",
        "\n",
        "to the representation of $\\ell$-th layer\n",
        "\n",
        "$$\n",
        "   \\boldsymbol x_{\\ell} \\in \\mathbb R^{n_{\\ell}}.\n",
        "$$\n",
        "\n",
        "Thus, the **input layer** $\\boldsymbol x_0 \\in \\mathbb R^{n_0}$ is converted to the **output layer** $\\boldsymbol x_L \\in \\mathbb R^{n_L}$. All other layers $\\boldsymbol x_\\ell$, $1\\leqslant \\ell < L$, are called **hidden layers**. If an MLP has two or more hidden layers, it is called a deep neural network.\n",
        "\n",
        "```{warning}\n",
        "The terminology about layers is a bit ambiguous. Both functions $f_\\ell$ and their outputs $\\boldsymbol x_\\ell = f(\\boldsymbol x_{\\ell - 1})$ are called $\\ell$-th layer in different sources.\n",
        "```\n",
        "\n"
      ]
    },
    {
      "cell_type": "markdown",
      "source": [
        "## Parameters of MLP\n",
        "\n",
        "However, one important element is missing in this description of MLP: parameters! Each layer $f_\\ell$ has a vector of parameters $\\boldsymbol \\theta_\\ell\\in\\mathbb R^{m_\\ell}$ (sometimes empty). Hence, a layer should be defined as\n",
        "\n",
        "$$\n",
        "    f_\\ell \\colon \\mathbb R^{n_{\\ell - 1}} \\times \\mathbb R^{m_\\ell} \\to \\mathbb R^{n_\\ell}.\n",
        "$$\n",
        "\n",
        "The representation $\\boldsymbol x_\\ell$ is calculated from $\\boldsymbol x_{\\ell -1}$ by the formula\n",
        "\n",
        "$$\n",
        "\\boldsymbol x_\\ell = f_\\ell(\\boldsymbol x_{\\ell - 1},\\boldsymbol \\theta_\\ell)\n",
        "$$\n",
        "\n",
        "with some fixed $\\boldsymbol \\theta_\\ell\\in\\mathbb R^{m_\\ell}$. The whole MLP $F$ depends on parameters of all layers:\n",
        "\n",
        "$$\n",
        "    F(\\boldsymbol x, \\boldsymbol \\theta), \\quad \\boldsymbol \\theta = (\\boldsymbol \\theta_1, \\ldots, \\boldsymbol \\theta_L).\n",
        "$$\n",
        "\n",
        "All these parameters are trained simultaneously by the {ref}`backpropagation method <backprop>`.\n",
        "\n",
        "\n"
      ],
      "metadata": {
        "id": "srt9mrJJJ5LG"
      }
    },
    {
      "cell_type": "markdown",
      "source": [
        "## Linear layer\n",
        "\n",
        "Edges between two consequetive layers denote **linear** (or **dense**) layer:\n",
        "\n",
        "$$\n",
        "    \\boldsymbol x_\\ell = f(\\boldsymbol x_{\\ell - 1}; \\boldsymbol W, \\boldsymbol b) = \\boldsymbol {Wx}_{\\ell - 1} + \\boldsymbol b.\n",
        "$$\n",
        "\n",
        "The matrix $\\boldsymbol W \\in \\mathbb R^{n_{\\ell - 1}\\times n_\\ell}$ and vector $\\boldsymbol b \\in \\mathbb R^{n_\\ell}$ (bias) are parameters of the linear layer which defines the linear transformation from $\\boldsymbol x_{\\ell - 1}$ to $\\boldsymbol x_{\\ell}$.\n",
        "\n",
        "**Q**. How many numeric parameters does such linear layer have?\n",
        "\n",
        "```{admonition} Exercise\n",
        ":class: important\n",
        "\n",
        "Suppose that we apply one more dense layer:\n",
        "\n",
        "$$\n",
        "    \\boldsymbol x_{\\ell + 1} = \\boldsymbol {W'x}_{\\ell} + \\boldsymbol{b'}\n",
        "$$\n",
        "\n",
        "Express $\\boldsymbol x_{\\ell + 1}$ as a function of $\\boldsymbol x_{\\ell - 1}$.```"
      ],
      "metadata": {
        "id": "7mpBmGUjKGOw"
      }
    },
    {
      "cell_type": "code",
      "source": [
        "# @title\n",
        "import json\n",
        "from jupyterquiz import display_quiz\n",
        "display_quiz(\"https://raw.githubusercontent.com/teslasama/specialforumlf/main/question2.json\")"
      ],
      "metadata": {
        "colab": {
          "base_uri": "https://localhost:8080/",
          "height": 375
        },
        "id": "8T8D_vmhtxoq",
        "outputId": "5e30d493-9591-4be1-c198-adfae5f75b0c"
      },
      "execution_count": null,
      "outputs": [
        {
          "output_type": "error",
          "ename": "ModuleNotFoundError",
          "evalue": "ignored",
          "traceback": [
            "\u001b[0;31m---------------------------------------------------------------------------\u001b[0m",
            "\u001b[0;31mModuleNotFoundError\u001b[0m                       Traceback (most recent call last)",
            "\u001b[0;32m<ipython-input-2-c016456284da>\u001b[0m in \u001b[0;36m<cell line: 3>\u001b[0;34m()\u001b[0m\n\u001b[1;32m      1\u001b[0m \u001b[0;31m# @title\u001b[0m\u001b[0;34m\u001b[0m\u001b[0;34m\u001b[0m\u001b[0m\n\u001b[1;32m      2\u001b[0m \u001b[0;32mimport\u001b[0m \u001b[0mjson\u001b[0m\u001b[0;34m\u001b[0m\u001b[0;34m\u001b[0m\u001b[0m\n\u001b[0;32m----> 3\u001b[0;31m \u001b[0;32mfrom\u001b[0m \u001b[0mjupyterquiz\u001b[0m \u001b[0;32mimport\u001b[0m \u001b[0mdisplay_quiz\u001b[0m\u001b[0;34m\u001b[0m\u001b[0;34m\u001b[0m\u001b[0m\n\u001b[0m\u001b[1;32m      4\u001b[0m \u001b[0mdisplay_quiz\u001b[0m\u001b[0;34m(\u001b[0m\u001b[0;34m\"https://raw.githubusercontent.com/teslasama/specialforumlf/main/question2.json\"\u001b[0m\u001b[0;34m)\u001b[0m\u001b[0;34m\u001b[0m\u001b[0;34m\u001b[0m\u001b[0m\n",
            "\u001b[0;31mModuleNotFoundError\u001b[0m: No module named 'jupyterquiz'",
            "",
            "\u001b[0;31m---------------------------------------------------------------------------\u001b[0;32m\nNOTE: If your import is failing due to a missing package, you can\nmanually install dependencies using either !pip or !apt.\n\nTo view examples of installing some common dependencies, click the\n\"Open Examples\" button below.\n\u001b[0;31m---------------------------------------------------------------------------\u001b[0m\n"
          ],
          "errorDetails": {
            "actions": [
              {
                "action": "open_url",
                "actionText": "Open Examples",
                "url": "/notebooks/snippets/importing_libraries.ipynb"
              }
            ]
          }
        }
      ]
    },
    {
      "cell_type": "code",
      "source": [
        "# @title\n",
        "display_quiz(\"https://raw.githubusercontent.com/teslasama/specialforumlf/main/question1.json\")"
      ],
      "metadata": {
        "id": "rCkxaoLXtxlS",
        "cellView": "form"
      },
      "execution_count": null,
      "outputs": []
    },
    {
      "cell_type": "markdown",
      "metadata": {
        "id": "xC7csZoUtTe7"
      },
      "source": [
        "###Linear layer in PyTorch"
      ]
    },
    {
      "cell_type": "code",
      "execution_count": null,
      "metadata": {
        "id": "KrMHg1v7tTe8",
        "outputId": "040ed48b-f9b1-481e-8cd9-ddba28f61587",
        "colab": {
          "base_uri": "https://localhost:8080/"
        }
      },
      "outputs": [
        {
          "output_type": "execute_result",
          "data": {
            "text/plain": [
              "tensor([-0.7568, -1.9770,  0.0768,  1.0487,  0.1292])"
            ]
          },
          "metadata": {},
          "execution_count": 3
        }
      ],
      "source": [
        "import torch\n",
        "\n",
        "x = torch.randn(5)\n",
        "x"
      ]
    },
    {
      "cell_type": "markdown",
      "source": [
        "Weights:"
      ],
      "metadata": {
        "id": "wsCdThCiqgd4"
      }
    },
    {
      "cell_type": "code",
      "execution_count": null,
      "metadata": {
        "id": "_sxAat8ftTe-",
        "outputId": "8f258db9-874f-47b6-dba1-b7b08b414b26",
        "colab": {
          "base_uri": "https://localhost:8080/"
        }
      },
      "outputs": [
        {
          "output_type": "execute_result",
          "data": {
            "text/plain": [
              "Parameter containing:\n",
              "tensor([[ 0.3036, -0.2879, -0.2582,  0.1427,  0.3310],\n",
              "        [-0.2668, -0.0380,  0.3420, -0.3908, -0.2730],\n",
              "        [-0.1875, -0.0583, -0.3547, -0.0448,  0.0005],\n",
              "        [ 0.1935,  0.2351, -0.1493,  0.4044, -0.1120],\n",
              "        [-0.0053, -0.2054, -0.0989, -0.2757,  0.0067],\n",
              "        [-0.4358,  0.0479,  0.0208,  0.1095, -0.0214]], requires_grad=True)"
            ]
          },
          "metadata": {},
          "execution_count": 4
        }
      ],
      "source": [
        "linear_layer = torch.nn.Linear(5, 6)\n",
        "linear_layer.weight"
      ]
    },
    {
      "cell_type": "markdown",
      "source": [
        "Apply the linear transformation:"
      ],
      "metadata": {
        "id": "yUa6eJJ2q8go"
      }
    },
    {
      "cell_type": "code",
      "source": [
        "linear_layer(x)"
      ],
      "metadata": {
        "colab": {
          "base_uri": "https://localhost:8080/"
        },
        "id": "mGCyytVVq90b",
        "outputId": "b78cf808-21c3-4488-90c0-b87ac995b61a"
      },
      "execution_count": null,
      "outputs": [
        {
          "output_type": "execute_result",
          "data": {
            "text/plain": [
              "tensor([ 0.8889, -0.5036, -0.0657, -0.2537,  0.3832,  0.1138],\n",
              "       grad_fn=<ViewBackward0>)"
            ]
          },
          "metadata": {},
          "execution_count": 5
        }
      ]
    },
    {
      "cell_type": "code",
      "source": [
        "# @title\n",
        "import matplotlib.pyplot as plt\n",
        "\n",
        "weights = linear_layer.weight.detach().numpy().T\n",
        "biases = linear_layer.bias.detach().numpy()\n",
        "\n",
        "fig, axs = plt.subplots(2, 1, figsize=(8, 6))\n",
        "\n",
        "# Plot weights\n",
        "axs[0].bar(range(1, 7), weights[0], color='blue', label='Weights')\n",
        "axs[0].set(title='Weights of Linear Layer', xlabel='Input Feature Index', ylabel='Weight Value')\n",
        "\n",
        "# Plot biases\n",
        "axs[1].bar(range(1, 7), biases, color='orange', label='Biases')\n",
        "axs[1].set(title='Biases of Linear Layer', xlabel='Neuron Index', ylabel='Bias Value')\n",
        "\n",
        "plt.tight_layout()\n",
        "plt.show()"
      ],
      "metadata": {
        "colab": {
          "base_uri": "https://localhost:8080/",
          "height": 607
        },
        "id": "DLR2qsXEw54Z",
        "outputId": "112b1c09-94a0-450d-f4f1-48358476d8bb",
        "cellView": "form"
      },
      "execution_count": null,
      "outputs": [
        {
          "output_type": "display_data",
          "data": {
            "text/plain": [
              "<Figure size 800x600 with 2 Axes>"
            ],
            "image/png": "[encoded data removed]"
          },
          "metadata": {}
        }
      ]
    },
    {
      "cell_type": "markdown",
      "metadata": {
        "id": "sOjGyeFrtTe_"
      },
      "source": [
        "## Activation layer"
      ]
    },
    {
      "cell_type": "markdown",
      "metadata": {
        "id": "5DpI9ljHtTe_"
      },
      "source": [
        "The perceptron computes a single output from multiple real-valued inputs by forming a linear combination according to its input weights and then possibly putting the output through some nonlinear **activation function**. Mathematically this can be written as\n",
        "\n",
        "\n",
        "$$\n",
        "    y = \\boldsymbol\\psi \\Big(\\sum\\limits_{i=1}^l W_i x_i + b \\Big) = \\boldsymbol\\psi( W^\\top \\boldsymbol x + b).\n",
        "$$\n",
        "\n",
        "where, $\\boldsymbol\\psi$ is the activatiion function.\n",
        "\n",
        "```{warning}\n",
        "Note that different layers may have different activation functions.\n",
        "```\n",
        "\n",
        "The original Rosenblatt's perceptron used a Heaviside step function\n",
        "$$\n",
        "    \\mathbb H(x) = \\begin{cases}\n",
        "        1,& \\text{if }  x \\geqslant 0, \\\\\n",
        "        0,& \\text{if }  x < 0.\n",
        "    \\end{cases}\n",
        "$$\n",
        "as the activation function $\\boldsymbol\\phi$. While the value of “1” triggers the activation function and “0” does not. If there exists more than one layer,a value of “1” will be configured to pass the output to the input of the next layer. Consequently, a “0” value is configured to be ignored and will not be passed to the next processor.\n",
        "\n",
        "\n",
        "Nowadays, and especially in multilayer networks, the activation function is often chosen to be the logistic sigmoid\n",
        "$$\n",
        "\\sigma(x) = \\frac{1}{1 + e^{-x}}\n",
        "$$\n",
        "\n",
        "or the hyperbolic tangent\n",
        "\n",
        "$$\n",
        "\\tanh(x)\n",
        "$$"
      ]
    },
    {
      "cell_type": "code",
      "source": [
        "# @title\n",
        "import torch\n",
        "import matplotlib.pyplot as plt\n",
        "import ipywidgets as widgets\n",
        "from ipywidgets import interactive\n",
        "from IPython.display import display, clear_output, HTML\n",
        "\n",
        "torch.manual_seed(1)\n",
        "\n",
        "initial_x_value = 10\n",
        "x_slider = widgets.FloatSlider(value=initial_x_value, min=-10, max=10, step=0.01, description='X Value:')\n",
        "\n",
        "def plot_activation_functions(x_value, sigmoid, relu, tanh, softplus):\n",
        "    x = torch.linspace(-initial_x_value, initial_x_value, 100)\n",
        "    x_numpy = x.numpy()\n",
        "\n",
        "    plt.figure(figsize=(8, 6))\n",
        "\n",
        "    if sigmoid:\n",
        "        plt.plot(x_numpy, torch.sigmoid(x).numpy(), label='Sigmoid')\n",
        "\n",
        "    if relu:\n",
        "        plt.plot(x_numpy, torch.relu(x).numpy(), label='ReLU')\n",
        "\n",
        "    if tanh:\n",
        "        plt.plot(x_numpy, torch.tanh(x).numpy(), label='Tanh')\n",
        "\n",
        "    if softplus:\n",
        "        plt.plot(x_numpy, torch.nn.functional.softplus(x).numpy(), label='Softplus')\n",
        "\n",
        "    plt.title('Activation Functions')\n",
        "    plt.xlabel('Input')\n",
        "    plt.ylabel('Output')\n",
        "    plt.legend()\n",
        "    plt.grid(True)\n",
        "\n",
        "    plt.xlim(-initial_x_value, initial_x_value)\n",
        "    plt.ylim(-1, 2)\n",
        "\n",
        "    plt.axvline(x_value, color='r', linestyle='--', label=f'X Value: {x_value:.2f}')\n",
        "    plt.legend(loc='upper right')\n",
        "\n",
        "    plt.show()\n",
        "\n",
        "sigmoid_checkbox = widgets.Checkbox(value=True, description='Sigmoid', indent=False, layout={'marginRight': '50px'})\n",
        "relu_checkbox = widgets.Checkbox(value=False, description='ReLU', indent=False, layout={'marginRight': '50px'})\n",
        "tanh_checkbox = widgets.Checkbox(value=False, description='Tanh', indent=False, layout={'marginRight': '50px'})\n",
        "softplus_checkbox = widgets.Checkbox(value=False, description='Softplus', indent=False, layout={'marginRight': '50px'})\n",
        "\n",
        "interactive_plot = interactive(plot_activation_functions,\n",
        "                               x_value=x_slider,\n",
        "                               sigmoid=sigmoid_checkbox,\n",
        "                               relu=relu_checkbox,\n",
        "                               tanh=tanh_checkbox,\n",
        "                               softplus=softplus_checkbox)\n",
        "\n",
        "# Use HTML to hide the input cell\n",
        "html_code = \"\"\"\n",
        "<style>\n",
        "    .input_area {\n",
        "        display: none;\n",
        "    }\n",
        "</style>\n",
        "\"\"\"\n",
        "display(HTML(html_code))\n",
        "\n",
        "# Display the interactive plot\n",
        "display(interactive_plot)\n"
      ],
      "metadata": {
        "colab": {
          "base_uri": "https://localhost:8080/",
          "height": 724,
          "referenced_widgets": [
            "fba8307dea43436bb6cceb073a8053ab",
            "5c1b02fe32a04aa399f044c1b1542220",
            "42b9ab50dcf54d38ac2a37c472712410",
            "8ab01147bf2c49cfb3d4bc0c768fee81",
            "d7bfe95ca8e642249d91d712512e2b2f",
            "da5a0c4e4ade4054bad958af416590b3",
            "5a531ca04b9542e88369b3049193e9a6",
            "a77b4488bb4148a69ca72644c76428b7",
            "24bdc4db7f104f87807373ac55621843",
            "f378d0db0b5f4515af8f33b0b20a5ca4",
            "1f5275f0c2554a05b77a1f6242dbaf6f",
            "122345d5be2e40648fc00d8c256085ec",
            "43257c41430745929fa81e47179a0ee5",
            "a726d7d26e464c9cb13537d1e7ac9e8f",
            "145ab932f5744585ba41c6e7352c8d19",
            "87b8b563722d4cb89f05fec0486105fd",
            "7188628caa9141dd9f141299d03479f4",
            "23b3f43f7a6e4649930c5b36636b270e",
            "d6cad1f8f722444b9d754566523b64a2"
          ]
        },
        "id": "hfiMCmtJDVxV",
        "outputId": "2321c9d4-dce6-4970-b2b0-7d8eab781205",
        "cellView": "form"
      },
      "execution_count": null,
      "outputs": [
        {
          "output_type": "display_data",
          "data": {
            "text/plain": [
              "<IPython.core.display.HTML object>"
            ],
            "text/html": [
              "\n",
              "<style>\n",
              "    .input_area {\n",
              "        display: none;\n",
              "    }\n",
              "</style>\n"
            ]
          },
          "metadata": {}
        },
        {
          "output_type": "display_data",
          "data": {
            "text/plain": [
              "interactive(children=(FloatSlider(value=10.0, description='X Value:', max=10.0, min=-10.0, step=0.01), Checkbo…"
            ],
            "application/vnd.jupyter.widget-view+json": {
              "version_major": 2,
              "version_minor": 0,
              "model_id": "fba8307dea43436bb6cceb073a8053ab"
            }
          },
          "metadata": {}
        }
      ]
    },
    {
      "cell_type": "markdown",
      "source": [
        "These functions are used because they are mathematically convenient and are close to linear near origin while saturating rather quickly when getting away from the origin. This allows MLP networks to model well both strongly and mildly nonlinear mappings.\n",
        "\n",
        "\n",
        "\n",
        "**Q**. How do the functions of the logistic sigmoid and hyperbolic tangent are related?\n",
        "\n",
        "```{admonition} Exercise\n",
        ":class: important\n",
        "\n",
        "They are related by  \n",
        "$$\n",
        "\\frac{\\tanh(x)+1}2 = \\frac{1}{1 + e^{-2x}}\n",
        "$$```\n",
        "\n",
        "We will discover activation functions in more detail in the {ref}`Activation functions <activations>`."
      ],
      "metadata": {
        "id": "5pmXNS_cQY9I"
      }
    },
    {
      "cell_type": "code",
      "source": [
        "# @title\n",
        "display_quiz(\"https://raw.githubusercontent.com/teslasama/specialforumlf/main/question4.json\")"
      ],
      "metadata": {
        "colab": {
          "base_uri": "https://localhost:8080/",
          "height": 191
        },
        "id": "C79Sx4kSxrRa",
        "outputId": "8dd0c3fa-c76f-4868-a925-a70f01e239ed"
      },
      "execution_count": null,
      "outputs": [
        {
          "output_type": "error",
          "ename": "NameError",
          "evalue": "ignored",
          "traceback": [
            "\u001b[0;31m---------------------------------------------------------------------------\u001b[0m",
            "\u001b[0;31mNameError\u001b[0m                                 Traceback (most recent call last)",
            "\u001b[0;32m<ipython-input-7-25cec66221ea>\u001b[0m in \u001b[0;36m<cell line: 2>\u001b[0;34m()\u001b[0m\n\u001b[1;32m      1\u001b[0m \u001b[0;31m# @title\u001b[0m\u001b[0;34m\u001b[0m\u001b[0;34m\u001b[0m\u001b[0m\n\u001b[0;32m----> 2\u001b[0;31m \u001b[0mdisplay_quiz\u001b[0m\u001b[0;34m(\u001b[0m\u001b[0;34m\"https://raw.githubusercontent.com/teslasama/specialforumlf/main/question4.json\"\u001b[0m\u001b[0;34m)\u001b[0m\u001b[0;34m\u001b[0m\u001b[0;34m\u001b[0m\u001b[0m\n\u001b[0m",
            "\u001b[0;31mNameError\u001b[0m: name 'display_quiz' is not defined"
          ]
        }
      ]
    },
    {
      "cell_type": "markdown",
      "source": [
        "### Sigmoid function in PyTorch"
      ],
      "metadata": {
        "id": "OfaQHAj8ZRh3"
      }
    },
    {
      "cell_type": "code",
      "source": [
        "import torch\n",
        "\n",
        "torch.manual_seed(1)\n",
        "\n",
        "x = torch.randn((3, 3, 3))\n",
        "x"
      ],
      "metadata": {
        "id": "38k6IsppRtsR",
        "colab": {
          "base_uri": "https://localhost:8080/"
        },
        "outputId": "36e9a4ec-deff-44da-80cd-0930a867f897"
      },
      "execution_count": null,
      "outputs": [
        {
          "output_type": "execute_result",
          "data": {
            "text/plain": [
              "tensor([[[-1.5256, -0.7502, -0.6540],\n",
              "         [-1.6095, -0.1002, -0.6092],\n",
              "         [-0.9798, -1.6091, -0.7121]],\n",
              "\n",
              "        [[ 0.3037, -0.7773, -0.0954],\n",
              "         [ 0.1394, -1.5785, -0.3206],\n",
              "         [-0.2993,  1.8793, -0.0721]],\n",
              "\n",
              "        [[ 0.1578,  1.7163, -0.0561],\n",
              "         [ 0.9107, -1.3924,  2.6891],\n",
              "         [-0.1110,  0.2927, -0.1578]]])"
            ]
          },
          "metadata": {},
          "execution_count": 8
        }
      ]
    },
    {
      "cell_type": "markdown",
      "source": [
        "Apply the sigmoid function and print the minimum and maximum values of the tensor:"
      ],
      "metadata": {
        "id": "3iApZcZnsIMm"
      }
    },
    {
      "cell_type": "code",
      "source": [
        "y = torch.sigmoid(x)\n",
        "\n",
        "y.min(), y.max()"
      ],
      "metadata": {
        "colab": {
          "base_uri": "https://localhost:8080/"
        },
        "id": "oHr9SNgdYvJc",
        "outputId": "55b15392-dac3-41d2-c6d4-6c57e7a4cabc"
      },
      "execution_count": null,
      "outputs": [
        {
          "output_type": "execute_result",
          "data": {
            "text/plain": [
              "(tensor(0.1667), tensor(0.9364))"
            ]
          },
          "metadata": {},
          "execution_count": 10
        }
      ]
    },
    {
      "cell_type": "code",
      "source": [
        "# @title\n",
        "display_quiz(\"https://raw.githubusercontent.com/teslasama/specialforumlf/main/question5.json\")"
      ],
      "metadata": {
        "colab": {
          "base_uri": "https://localhost:8080/",
          "height": 191
        },
        "id": "pj90yBTQx2oA",
        "outputId": "1a0cc441-ec51-44ad-ce27-27a95457bec6",
        "cellView": "form"
      },
      "execution_count": null,
      "outputs": [
        {
          "output_type": "error",
          "ename": "NameError",
          "evalue": "ignored",
          "traceback": [
            "\u001b[0;31m---------------------------------------------------------------------------\u001b[0m",
            "\u001b[0;31mNameError\u001b[0m                                 Traceback (most recent call last)",
            "\u001b[0;32m<ipython-input-11-6c226f985569>\u001b[0m in \u001b[0;36m<cell line: 2>\u001b[0;34m()\u001b[0m\n\u001b[1;32m      1\u001b[0m \u001b[0;31m# @title\u001b[0m\u001b[0;34m\u001b[0m\u001b[0;34m\u001b[0m\u001b[0m\n\u001b[0;32m----> 2\u001b[0;31m \u001b[0mdisplay_quiz\u001b[0m\u001b[0;34m(\u001b[0m\u001b[0;34m\"https://raw.githubusercontent.com/teslasama/specialforumlf/main/question5.json\"\u001b[0m\u001b[0;34m)\u001b[0m\u001b[0;34m\u001b[0m\u001b[0;34m\u001b[0m\u001b[0m\n\u001b[0m",
            "\u001b[0;31mNameError\u001b[0m: name 'display_quiz' is not defined"
          ]
        }
      ]
    },
    {
      "cell_type": "code",
      "source": [
        "# @title\n",
        "display_quiz(\"https://raw.githubusercontent.com/teslasama/specialforumlf/main/question3.json\")"
      ],
      "metadata": {
        "colab": {
          "base_uri": "https://localhost:8080/",
          "height": 191
        },
        "id": "NdPeWLgxzsHm",
        "outputId": "b6afef7d-fc40-4eb0-b67b-043bf7589c2e",
        "cellView": "form"
      },
      "execution_count": null,
      "outputs": [
        {
          "output_type": "error",
          "ename": "NameError",
          "evalue": "ignored",
          "traceback": [
            "\u001b[0;31m---------------------------------------------------------------------------\u001b[0m",
            "\u001b[0;31mNameError\u001b[0m                                 Traceback (most recent call last)",
            "\u001b[0;32m<ipython-input-12-191d14934ecd>\u001b[0m in \u001b[0;36m<cell line: 2>\u001b[0;34m()\u001b[0m\n\u001b[1;32m      1\u001b[0m \u001b[0;31m# @title\u001b[0m\u001b[0;34m\u001b[0m\u001b[0;34m\u001b[0m\u001b[0m\n\u001b[0;32m----> 2\u001b[0;31m \u001b[0mdisplay_quiz\u001b[0m\u001b[0;34m(\u001b[0m\u001b[0;34m\"https://raw.githubusercontent.com/teslasama/specialforumlf/main/question3.json\"\u001b[0m\u001b[0;34m)\u001b[0m\u001b[0;34m\u001b[0m\u001b[0;34m\u001b[0m\u001b[0m\n\u001b[0m",
            "\u001b[0;31mNameError\u001b[0m: name 'display_quiz' is not defined"
          ]
        }
      ]
    },
    {
      "cell_type": "markdown",
      "source": [
        "##From Linear to Nonlinear\n"
      ],
      "metadata": {
        "id": "K96cSEDxIAOd"
      }
    },
    {
      "cell_type": "markdown",
      "source": [
        "The prediction formula for deep learning is linear itself. But each of its terms is also a linear hypothesis made up in their turn of terms that are also a linear hypothesis.  \n",
        "\n",
        "$$\n",
        "    y = \\boldsymbol\\psi_1(w_1 x_1 + w_2 x_2 + ... + w_n x_n + ... + w_l x_l + b).\n",
        "$$\n",
        "\n",
        "$$\n",
        "    x_n = \\boldsymbol\\psi_2(q_1 p_1 + q_2 p_2 + ... + q_n p_n + ... + q_m p_m + c).\n",
        "$$\n",
        "\n",
        "$$\n",
        "    p_n = \\boldsymbol\\psi_3(h_1 t_1 + h_2 t_2 + ... + h_n t_n + ... + h_s t_s + d).\n",
        "$$\n",
        "\n",
        "This linear embedding process of many linear hypotheses is quite powerful. This approach is capable of estimating highly nonlinear decision boundaries, even though the hypothesis at every level is considered a simple linear combination with some activation function. Moreover, a total number of weights that need to be calculated using a deep learning algorithm is far less than the highly nonlinear interaction terms from regression analysis.\n",
        "\n",
        "So, we can overcome the limitations of linear models by integrating one or more hidden layers. The easiest way to do this is to stack many fully connected layers on top of one another. Each layer feeds into the layer above it until we generate outputs. We can think of the first $L-1$ layers as our representation and the final layer as our linear predictor. This architecture is commonly called a multilayer perceptron, often abbreviated as MLP."
      ],
      "metadata": {
        "id": "KF-QYVSxI9Xk"
      }
    },
    {
      "cell_type": "markdown",
      "source": [
        "##MLP working process\n",
        "\n"
      ],
      "metadata": {
        "id": "VOswADfdJhi2"
      }
    },
    {
      "cell_type": "code",
      "source": [
        "# @title\n",
        "import networkx as nx\n",
        "import matplotlib.animation as animation\n",
        "from itertools import cycle\n",
        "\n",
        "# Create a graph\n",
        "G = nx.Graph()\n",
        "\n",
        "# Add nodes\n",
        "G.add_nodes_from([1, 2, 3, 4, 5, 6, 7, 8, 9, 10, 11, 12, 13])\n",
        "\n",
        "# Add edges\n",
        "G.add_edges_from([\n",
        "    (1, 4), (1, 5), (1, 6), (1, 7),\n",
        "    (2, 4), (2, 5), (2, 6), (2, 7),\n",
        "    (3, 4), (3, 5), (3, 6), (3, 7),\n",
        "    (4, 8), (4, 9), (4, 10), (4, 11),\n",
        "    (5, 8), (5, 9), (5, 10), (5, 11),\n",
        "    (6, 8), (6, 9), (6, 10), (6, 11),\n",
        "    (7, 8), (7, 9), (7, 10), (7, 11),\n",
        "    (8, 12), (8, 13),\n",
        "    (9, 12), (9, 13),\n",
        "    (10, 12), (10, 13),\n",
        "    (11, 12), (11, 13)]\n",
        ")\n",
        "\n",
        "pos = {1: (1, 2.25), 2: (1, 1.5), 3: (1, 0.75),\n",
        "       4: (2, 3), 5: (2, 2), 6: (2, 1), 7: (2, 0),\n",
        "       8: (3, 3), 9: (3, 2), 10: (3, 1), 11: (3, 0),\n",
        "       12: (4, 2), 13: (4, 1)}\n",
        "\n",
        "node_colors = {1: 'skyblue', 2: 'skyblue', 3: 'skyblue',\n",
        "               4: 'orange', 5: 'orange', 6: 'orange', 7: 'orange',\n",
        "               8: 'orange', 9: 'orange', 10: 'orange', 11: 'orange',\n",
        "               12: 'green', 13: 'green'}\n",
        "\n",
        "fig, ax = plt.subplots()\n",
        "nx.draw(G, pos, with_labels=True, node_size=2000, node_color=[node_colors[node] for node in G.nodes],\n",
        "        font_size=10, font_color='black', font_weight='bold', edge_color='gray', linewidths=1, alpha=0.7)\n",
        "\n",
        "legend_labels = {\n",
        "    'Input Layer': 'skyblue',\n",
        "    'Hidden Layers': 'orange',\n",
        "    'Output Layer': 'green'\n",
        "}\n",
        "\n",
        "for label, color in legend_labels.items():\n",
        "    plt.scatter([], [], c=color, label=label, s=300)\n",
        "\n",
        "plt.legend(scatterpoints=1, frameon=False, labelspacing=1, bbox_to_anchor=(1.05, 1), loc='upper left')\n",
        "\n",
        "animated_edges = [\n",
        "    [(1, 4), (1, 5), (1, 6), (1, 7),\n",
        "     (2, 4), (2, 5), (2, 6), (2, 7),\n",
        "     (3, 4), (3, 5), (3, 6), (3, 7)],\n",
        "    [ (4, 8), (4, 9), (4, 10), (4, 11),\n",
        "      (5, 8), (5, 9), (5, 10), (5, 11),\n",
        "      (6, 8), (6, 9), (6, 10), (6, 11),\n",
        "      (7, 8), (7, 9), (7, 10), (7, 11) ],\n",
        "    [(8, 12), (8, 13), (9, 12), (9, 13), (10, 12), (10, 13),(11, 12), (11, 13)]\n",
        "]\n",
        "\n",
        "\n",
        "plt.show()\n"
      ],
      "metadata": {
        "id": "5dEATjUGTfK7",
        "colab": {
          "base_uri": "https://localhost:8080/",
          "height": 250
        },
        "outputId": "0b9b77f2-0a1a-4b25-dcae-c129d6603d14"
      },
      "execution_count": null,
      "outputs": [
        {
          "output_type": "error",
          "ename": "NameError",
          "evalue": "ignored",
          "traceback": [
            "\u001b[0;31m---------------------------------------------------------------------------\u001b[0m",
            "\u001b[0;31mNameError\u001b[0m                                 Traceback (most recent call last)",
            "\u001b[0;32m<ipython-input-1-929e13317b16>\u001b[0m in \u001b[0;36m<cell line: 37>\u001b[0;34m()\u001b[0m\n\u001b[1;32m     35\u001b[0m                12: 'green', 13: 'green'}\n\u001b[1;32m     36\u001b[0m \u001b[0;34m\u001b[0m\u001b[0m\n\u001b[0;32m---> 37\u001b[0;31m \u001b[0mfig\u001b[0m\u001b[0;34m,\u001b[0m \u001b[0max\u001b[0m \u001b[0;34m=\u001b[0m \u001b[0mplt\u001b[0m\u001b[0;34m.\u001b[0m\u001b[0msubplots\u001b[0m\u001b[0;34m(\u001b[0m\u001b[0;34m)\u001b[0m\u001b[0;34m\u001b[0m\u001b[0;34m\u001b[0m\u001b[0m\n\u001b[0m\u001b[1;32m     38\u001b[0m nx.draw(G, pos, with_labels=True, node_size=2000, node_color=[node_colors[node] for node in G.nodes],\n\u001b[1;32m     39\u001b[0m         font_size=10, font_color='black', font_weight='bold', edge_color='gray', linewidths=1, alpha=0.7)\n",
            "\u001b[0;31mNameError\u001b[0m: name 'plt' is not defined"
          ]
        }
      ]
    },
    {
      "cell_type": "code",
      "source": [
        "# @title\n",
        "from pyvis.network import Network\n",
        "from IPython.display import display\n",
        "\n",
        "net = Network(height=\"750px\", width=\"100%\", notebook=True, cdn_resources='remote')\n",
        "net.add_node(1, label=\"Node 1\")\n",
        "net.add_node(2, label=\"Node 2\")\n",
        "net.add_edge(1, 2)"
      ],
      "metadata": {
        "id": "QWwfmj76i_mI"
      },
      "execution_count": null,
      "outputs": []
    },
    {
      "cell_type": "markdown",
      "source": [
        "Let's figure out what's going on here.\n",
        "\n",
        "* Input is the input of the neural network that receives the source data. Usually, it is required that they have the form of a matrix or a tensor (multidimensional matrix). Generally, there may be various inputs: for example, we can submit a picture and some other information about it to the neural network - we will transform them in different ways.\n",
        "* Further to the source data $X_0$ linear layers are applied, which turn them into intermediate (internal, hidden) representations $X_1, X_2, ... , X_n$, they are also called activations (not to be confused with activation functions).\n",
        "* Each of the performances $X_1, X_2, ... , X_n$ is subjected to non-linear transformation, turning into new intermediate representations $Z_1, Z_2, ... , Z_n$ respectively. Transition from $X_0$\n",
        "to new matrices (or tensors) $Z_1, Z_2, ... , Z_n$ can be considered as the construction of more informative feature descriptions of the original data.\n",
        "* Then there is another activation, and the result gets to the network output, that is, it is given back to the user.\n",
        "\n",
        "A neural network that has only linear layers and various activation functions is called a fully connected neural network or multilayer perceptron (MLP)."
      ],
      "metadata": {
        "id": "vmcW9SgK_PWr"
      }
    },
    {
      "cell_type": "markdown",
      "source": [
        "##Example"
      ],
      "metadata": {
        "id": "cMU5avRJJwO2"
      }
    },
    {
      "cell_type": "markdown",
      "source": [
        "In this section, we will perform employee churn prediction using Multi-Layer Perceptron. Employee churn prediction helps us in designing better employee retention plans and improving employee satisfaction. For its exploratory data analysis you can refer to the following article on Predicting Employee Churn in Python:\n",
        "\n",
        "Let’s start the model building hands-on in python."
      ],
      "metadata": {
        "id": "CcfkKAl1Jzec"
      }
    },
    {
      "cell_type": "code",
      "source": [
        "import numpy as np\n",
        "import pandas as pd\n",
        "\n",
        "# Load data\n",
        "data=pd.read_csv('HR_comma_sep.csv')\n",
        "\n",
        "data.head()"
      ],
      "metadata": {
        "id": "7cxcW0p88t-A",
        "colab": {
          "base_uri": "https://localhost:8080/",
          "height": 402
        },
        "outputId": "b80388a6-5bb1-4d64-972f-6b2db688dc11"
      },
      "execution_count": null,
      "outputs": [
        {
          "output_type": "error",
          "ename": "FileNotFoundError",
          "evalue": "ignored",
          "traceback": [
            "\u001b[0;31m---------------------------------------------------------------------------\u001b[0m",
            "\u001b[0;31mFileNotFoundError\u001b[0m                         Traceback (most recent call last)",
            "\u001b[0;32m<ipython-input-13-416cf26fbb00>\u001b[0m in \u001b[0;36m<cell line: 5>\u001b[0;34m()\u001b[0m\n\u001b[1;32m      3\u001b[0m \u001b[0;34m\u001b[0m\u001b[0m\n\u001b[1;32m      4\u001b[0m \u001b[0;31m# Load data\u001b[0m\u001b[0;34m\u001b[0m\u001b[0;34m\u001b[0m\u001b[0m\n\u001b[0;32m----> 5\u001b[0;31m \u001b[0mdata\u001b[0m\u001b[0;34m=\u001b[0m\u001b[0mpd\u001b[0m\u001b[0;34m.\u001b[0m\u001b[0mread_csv\u001b[0m\u001b[0;34m(\u001b[0m\u001b[0;34m'HR_comma_sep.csv'\u001b[0m\u001b[0;34m)\u001b[0m\u001b[0;34m\u001b[0m\u001b[0;34m\u001b[0m\u001b[0m\n\u001b[0m\u001b[1;32m      6\u001b[0m \u001b[0;34m\u001b[0m\u001b[0m\n\u001b[1;32m      7\u001b[0m \u001b[0mdata\u001b[0m\u001b[0;34m.\u001b[0m\u001b[0mhead\u001b[0m\u001b[0;34m(\u001b[0m\u001b[0;34m)\u001b[0m\u001b[0;34m\u001b[0m\u001b[0;34m\u001b[0m\u001b[0m\n",
            "\u001b[0;32m/usr/local/lib/python3.10/dist-packages/pandas/util/_decorators.py\u001b[0m in \u001b[0;36mwrapper\u001b[0;34m(*args, **kwargs)\u001b[0m\n\u001b[1;32m    209\u001b[0m                 \u001b[0;32melse\u001b[0m\u001b[0;34m:\u001b[0m\u001b[0;34m\u001b[0m\u001b[0;34m\u001b[0m\u001b[0m\n\u001b[1;32m    210\u001b[0m                     \u001b[0mkwargs\u001b[0m\u001b[0;34m[\u001b[0m\u001b[0mnew_arg_name\u001b[0m\u001b[0;34m]\u001b[0m \u001b[0;34m=\u001b[0m \u001b[0mnew_arg_value\u001b[0m\u001b[0;34m\u001b[0m\u001b[0;34m\u001b[0m\u001b[0m\n\u001b[0;32m--> 211\u001b[0;31m             \u001b[0;32mreturn\u001b[0m \u001b[0mfunc\u001b[0m\u001b[0;34m(\u001b[0m\u001b[0;34m*\u001b[0m\u001b[0margs\u001b[0m\u001b[0;34m,\u001b[0m \u001b[0;34m**\u001b[0m\u001b[0mkwargs\u001b[0m\u001b[0;34m)\u001b[0m\u001b[0;34m\u001b[0m\u001b[0;34m\u001b[0m\u001b[0m\n\u001b[0m\u001b[1;32m    212\u001b[0m \u001b[0;34m\u001b[0m\u001b[0m\n\u001b[1;32m    213\u001b[0m         \u001b[0;32mreturn\u001b[0m \u001b[0mcast\u001b[0m\u001b[0;34m(\u001b[0m\u001b[0mF\u001b[0m\u001b[0;34m,\u001b[0m \u001b[0mwrapper\u001b[0m\u001b[0;34m)\u001b[0m\u001b[0;34m\u001b[0m\u001b[0;34m\u001b[0m\u001b[0m\n",
            "\u001b[0;32m/usr/local/lib/python3.10/dist-packages/pandas/util/_decorators.py\u001b[0m in \u001b[0;36mwrapper\u001b[0;34m(*args, **kwargs)\u001b[0m\n\u001b[1;32m    329\u001b[0m                     \u001b[0mstacklevel\u001b[0m\u001b[0;34m=\u001b[0m\u001b[0mfind_stack_level\u001b[0m\u001b[0;34m(\u001b[0m\u001b[0;34m)\u001b[0m\u001b[0;34m,\u001b[0m\u001b[0;34m\u001b[0m\u001b[0;34m\u001b[0m\u001b[0m\n\u001b[1;32m    330\u001b[0m                 )\n\u001b[0;32m--> 331\u001b[0;31m             \u001b[0;32mreturn\u001b[0m \u001b[0mfunc\u001b[0m\u001b[0;34m(\u001b[0m\u001b[0;34m*\u001b[0m\u001b[0margs\u001b[0m\u001b[0;34m,\u001b[0m \u001b[0;34m**\u001b[0m\u001b[0mkwargs\u001b[0m\u001b[0;34m)\u001b[0m\u001b[0;34m\u001b[0m\u001b[0;34m\u001b[0m\u001b[0m\n\u001b[0m\u001b[1;32m    332\u001b[0m \u001b[0;34m\u001b[0m\u001b[0m\n\u001b[1;32m    333\u001b[0m         \u001b[0;31m# error: \"Callable[[VarArg(Any), KwArg(Any)], Any]\" has no\u001b[0m\u001b[0;34m\u001b[0m\u001b[0;34m\u001b[0m\u001b[0m\n",
            "\u001b[0;32m/usr/local/lib/python3.10/dist-packages/pandas/io/parsers/readers.py\u001b[0m in \u001b[0;36mread_csv\u001b[0;34m(filepath_or_buffer, sep, delimiter, header, names, index_col, usecols, squeeze, prefix, mangle_dupe_cols, dtype, engine, converters, true_values, false_values, skipinitialspace, skiprows, skipfooter, nrows, na_values, keep_default_na, na_filter, verbose, skip_blank_lines, parse_dates, infer_datetime_format, keep_date_col, date_parser, dayfirst, cache_dates, iterator, chunksize, compression, thousands, decimal, lineterminator, quotechar, quoting, doublequote, escapechar, comment, encoding, encoding_errors, dialect, error_bad_lines, warn_bad_lines, on_bad_lines, delim_whitespace, low_memory, memory_map, float_precision, storage_options)\u001b[0m\n\u001b[1;32m    948\u001b[0m     \u001b[0mkwds\u001b[0m\u001b[0;34m.\u001b[0m\u001b[0mupdate\u001b[0m\u001b[0;34m(\u001b[0m\u001b[0mkwds_defaults\u001b[0m\u001b[0;34m)\u001b[0m\u001b[0;34m\u001b[0m\u001b[0;34m\u001b[0m\u001b[0m\n\u001b[1;32m    949\u001b[0m \u001b[0;34m\u001b[0m\u001b[0m\n\u001b[0;32m--> 950\u001b[0;31m     \u001b[0;32mreturn\u001b[0m \u001b[0m_read\u001b[0m\u001b[0;34m(\u001b[0m\u001b[0mfilepath_or_buffer\u001b[0m\u001b[0;34m,\u001b[0m \u001b[0mkwds\u001b[0m\u001b[0;34m)\u001b[0m\u001b[0;34m\u001b[0m\u001b[0;34m\u001b[0m\u001b[0m\n\u001b[0m\u001b[1;32m    951\u001b[0m \u001b[0;34m\u001b[0m\u001b[0m\n\u001b[1;32m    952\u001b[0m \u001b[0;34m\u001b[0m\u001b[0m\n",
            "\u001b[0;32m/usr/local/lib/python3.10/dist-packages/pandas/io/parsers/readers.py\u001b[0m in \u001b[0;36m_read\u001b[0;34m(filepath_or_buffer, kwds)\u001b[0m\n\u001b[1;32m    603\u001b[0m \u001b[0;34m\u001b[0m\u001b[0m\n\u001b[1;32m    604\u001b[0m     \u001b[0;31m# Create the parser.\u001b[0m\u001b[0;34m\u001b[0m\u001b[0;34m\u001b[0m\u001b[0m\n\u001b[0;32m--> 605\u001b[0;31m     \u001b[0mparser\u001b[0m \u001b[0;34m=\u001b[0m \u001b[0mTextFileReader\u001b[0m\u001b[0;34m(\u001b[0m\u001b[0mfilepath_or_buffer\u001b[0m\u001b[0;34m,\u001b[0m \u001b[0;34m**\u001b[0m\u001b[0mkwds\u001b[0m\u001b[0;34m)\u001b[0m\u001b[0;34m\u001b[0m\u001b[0;34m\u001b[0m\u001b[0m\n\u001b[0m\u001b[1;32m    606\u001b[0m \u001b[0;34m\u001b[0m\u001b[0m\n\u001b[1;32m    607\u001b[0m     \u001b[0;32mif\u001b[0m \u001b[0mchunksize\u001b[0m \u001b[0;32mor\u001b[0m \u001b[0miterator\u001b[0m\u001b[0;34m:\u001b[0m\u001b[0;34m\u001b[0m\u001b[0;34m\u001b[0m\u001b[0m\n",
            "\u001b[0;32m/usr/local/lib/python3.10/dist-packages/pandas/io/parsers/readers.py\u001b[0m in \u001b[0;36m__init__\u001b[0;34m(self, f, engine, **kwds)\u001b[0m\n\u001b[1;32m   1440\u001b[0m \u001b[0;34m\u001b[0m\u001b[0m\n\u001b[1;32m   1441\u001b[0m         \u001b[0mself\u001b[0m\u001b[0;34m.\u001b[0m\u001b[0mhandles\u001b[0m\u001b[0;34m:\u001b[0m \u001b[0mIOHandles\u001b[0m \u001b[0;34m|\u001b[0m \u001b[0;32mNone\u001b[0m \u001b[0;34m=\u001b[0m \u001b[0;32mNone\u001b[0m\u001b[0;34m\u001b[0m\u001b[0;34m\u001b[0m\u001b[0m\n\u001b[0;32m-> 1442\u001b[0;31m         \u001b[0mself\u001b[0m\u001b[0;34m.\u001b[0m\u001b[0m_engine\u001b[0m \u001b[0;34m=\u001b[0m \u001b[0mself\u001b[0m\u001b[0;34m.\u001b[0m\u001b[0m_make_engine\u001b[0m\u001b[0;34m(\u001b[0m\u001b[0mf\u001b[0m\u001b[0;34m,\u001b[0m \u001b[0mself\u001b[0m\u001b[0;34m.\u001b[0m\u001b[0mengine\u001b[0m\u001b[0;34m)\u001b[0m\u001b[0;34m\u001b[0m\u001b[0;34m\u001b[0m\u001b[0m\n\u001b[0m\u001b[1;32m   1443\u001b[0m \u001b[0;34m\u001b[0m\u001b[0m\n\u001b[1;32m   1444\u001b[0m     \u001b[0;32mdef\u001b[0m \u001b[0mclose\u001b[0m\u001b[0;34m(\u001b[0m\u001b[0mself\u001b[0m\u001b[0;34m)\u001b[0m \u001b[0;34m->\u001b[0m \u001b[0;32mNone\u001b[0m\u001b[0;34m:\u001b[0m\u001b[0;34m\u001b[0m\u001b[0;34m\u001b[0m\u001b[0m\n",
            "\u001b[0;32m/usr/local/lib/python3.10/dist-packages/pandas/io/parsers/readers.py\u001b[0m in \u001b[0;36m_make_engine\u001b[0;34m(self, f, engine)\u001b[0m\n\u001b[1;32m   1733\u001b[0m                 \u001b[0;32mif\u001b[0m \u001b[0;34m\"b\"\u001b[0m \u001b[0;32mnot\u001b[0m \u001b[0;32min\u001b[0m \u001b[0mmode\u001b[0m\u001b[0;34m:\u001b[0m\u001b[0;34m\u001b[0m\u001b[0;34m\u001b[0m\u001b[0m\n\u001b[1;32m   1734\u001b[0m                     \u001b[0mmode\u001b[0m \u001b[0;34m+=\u001b[0m \u001b[0;34m\"b\"\u001b[0m\u001b[0;34m\u001b[0m\u001b[0;34m\u001b[0m\u001b[0m\n\u001b[0;32m-> 1735\u001b[0;31m             self.handles = get_handle(\n\u001b[0m\u001b[1;32m   1736\u001b[0m                 \u001b[0mf\u001b[0m\u001b[0;34m,\u001b[0m\u001b[0;34m\u001b[0m\u001b[0;34m\u001b[0m\u001b[0m\n\u001b[1;32m   1737\u001b[0m                 \u001b[0mmode\u001b[0m\u001b[0;34m,\u001b[0m\u001b[0;34m\u001b[0m\u001b[0;34m\u001b[0m\u001b[0m\n",
            "\u001b[0;32m/usr/local/lib/python3.10/dist-packages/pandas/io/common.py\u001b[0m in \u001b[0;36mget_handle\u001b[0;34m(path_or_buf, mode, encoding, compression, memory_map, is_text, errors, storage_options)\u001b[0m\n\u001b[1;32m    854\u001b[0m         \u001b[0;32mif\u001b[0m \u001b[0mioargs\u001b[0m\u001b[0;34m.\u001b[0m\u001b[0mencoding\u001b[0m \u001b[0;32mand\u001b[0m \u001b[0;34m\"b\"\u001b[0m \u001b[0;32mnot\u001b[0m \u001b[0;32min\u001b[0m \u001b[0mioargs\u001b[0m\u001b[0;34m.\u001b[0m\u001b[0mmode\u001b[0m\u001b[0;34m:\u001b[0m\u001b[0;34m\u001b[0m\u001b[0;34m\u001b[0m\u001b[0m\n\u001b[1;32m    855\u001b[0m             \u001b[0;31m# Encoding\u001b[0m\u001b[0;34m\u001b[0m\u001b[0;34m\u001b[0m\u001b[0m\n\u001b[0;32m--> 856\u001b[0;31m             handle = open(\n\u001b[0m\u001b[1;32m    857\u001b[0m                 \u001b[0mhandle\u001b[0m\u001b[0;34m,\u001b[0m\u001b[0;34m\u001b[0m\u001b[0;34m\u001b[0m\u001b[0m\n\u001b[1;32m    858\u001b[0m                 \u001b[0mioargs\u001b[0m\u001b[0;34m.\u001b[0m\u001b[0mmode\u001b[0m\u001b[0;34m,\u001b[0m\u001b[0;34m\u001b[0m\u001b[0;34m\u001b[0m\u001b[0m\n",
            "\u001b[0;31mFileNotFoundError\u001b[0m: [Errno 2] No such file or directory: 'HR_comma_sep.csv'"
          ]
        }
      ]
    },
    {
      "cell_type": "markdown",
      "source": [
        "Lots of machine learning algorithms require numerical input data, so you need to represent categorical columns in a numerical column. In order to encode this data, you could map each value to a number. e.g. Salary column’s value can be represented as low:0, medium:1, and high:2. This process is known as label encoding. In sklearn, we can do this using LabelEncoder.\n",
        "\n",
        "Here, we imported the preprocessing module and created the Label Encoder object. Using this LabelEncoder object you fit and transform the “salary” and “Departments “ column into the numeric column."
      ],
      "metadata": {
        "id": "vxqakLyQCO4x"
      }
    },
    {
      "cell_type": "code",
      "source": [
        "# Import LabelEncoder\n",
        "from sklearn import preprocessing\n",
        "\n",
        "# Creating labelEncoder\n",
        "le = preprocessing.LabelEncoder()\n",
        "\n",
        "# Converting string labels into numbers.\n",
        "data['salary']=le.fit_transform(data['salary'])\n",
        "data['Departments ']=le.fit_transform(data['sales'])"
      ],
      "metadata": {
        "id": "qHfGFMBd-3OR",
        "colab": {
          "base_uri": "https://localhost:8080/",
          "height": 225
        },
        "outputId": "8eab2aab-a6de-42b2-c1e5-4cd98c3717a6"
      },
      "execution_count": null,
      "outputs": [
        {
          "output_type": "error",
          "ename": "NameError",
          "evalue": "ignored",
          "traceback": [
            "\u001b[0;31m---------------------------------------------------------------------------\u001b[0m",
            "\u001b[0;31mNameError\u001b[0m                                 Traceback (most recent call last)",
            "\u001b[0;32m<ipython-input-14-19bab257f008>\u001b[0m in \u001b[0;36m<cell line: 8>\u001b[0;34m()\u001b[0m\n\u001b[1;32m      6\u001b[0m \u001b[0;34m\u001b[0m\u001b[0m\n\u001b[1;32m      7\u001b[0m \u001b[0;31m# Converting string labels into numbers.\u001b[0m\u001b[0;34m\u001b[0m\u001b[0;34m\u001b[0m\u001b[0m\n\u001b[0;32m----> 8\u001b[0;31m \u001b[0mdata\u001b[0m\u001b[0;34m[\u001b[0m\u001b[0;34m'salary'\u001b[0m\u001b[0;34m]\u001b[0m\u001b[0;34m=\u001b[0m\u001b[0mle\u001b[0m\u001b[0;34m.\u001b[0m\u001b[0mfit_transform\u001b[0m\u001b[0;34m(\u001b[0m\u001b[0mdata\u001b[0m\u001b[0;34m[\u001b[0m\u001b[0;34m'salary'\u001b[0m\u001b[0;34m]\u001b[0m\u001b[0;34m)\u001b[0m\u001b[0;34m\u001b[0m\u001b[0;34m\u001b[0m\u001b[0m\n\u001b[0m\u001b[1;32m      9\u001b[0m \u001b[0mdata\u001b[0m\u001b[0;34m[\u001b[0m\u001b[0;34m'Departments '\u001b[0m\u001b[0;34m]\u001b[0m\u001b[0;34m=\u001b[0m\u001b[0mle\u001b[0m\u001b[0;34m.\u001b[0m\u001b[0mfit_transform\u001b[0m\u001b[0;34m(\u001b[0m\u001b[0mdata\u001b[0m\u001b[0;34m[\u001b[0m\u001b[0;34m'sales'\u001b[0m\u001b[0;34m]\u001b[0m\u001b[0;34m)\u001b[0m\u001b[0;34m\u001b[0m\u001b[0;34m\u001b[0m\u001b[0m\n",
            "\u001b[0;31mNameError\u001b[0m: name 'data' is not defined"
          ]
        }
      ]
    },
    {
      "cell_type": "markdown",
      "source": [
        "In order to assess the model performance, we need to divide the dataset into a training set and a test set. Let’s split dataset by using function train_test_split(). you need to pass basically 3 parameters features, target, and test_set size."
      ],
      "metadata": {
        "id": "m7xe_nLiCkq_"
      }
    },
    {
      "cell_type": "code",
      "source": [
        "# Spliting data into Feature and\n",
        "X=data[['satisfaction_level', 'last_evaluation', 'number_project', 'average_montly_hours', 'time_spend_company', 'Work_accident', 'promotion_last_5years', 'Departments ', 'salary']]\n",
        "y=data['left']\n",
        "\n",
        "# Import train_test_split function\n",
        "from sklearn.model_selection import train_test_split\n",
        "\n",
        "# Split dataset into training set and test set\n",
        "X_train, X_test, y_train, y_test = train_test_split(X, y, test_size=0.3, random_state=42)  # 70% training and 30% test"
      ],
      "metadata": {
        "id": "up4tcu8DCoJv"
      },
      "execution_count": null,
      "outputs": []
    },
    {
      "cell_type": "markdown",
      "source": [
        "Let’s build an employee churn prediction model. Here, our objective is to predict churn using MLPClassifier.\n",
        "\n",
        "First, import the MLPClassifier module and create MLP Classifier object using MLPClassifier() function. Then, fit your model on the train set using fit() and perform prediction on the test set using predict()."
      ],
      "metadata": {
        "id": "yHm1B7SNCpZL"
      }
    },
    {
      "cell_type": "code",
      "source": [
        "# Import MLPClassifer\n",
        "from sklearn.neural_network import MLPClassifier\n",
        "\n",
        "# Create model object\n",
        "clf = MLPClassifier(hidden_layer_sizes=(6,5),\n",
        "                    random_state=5,\n",
        "                    verbose=True,\n",
        "                    learning_rate_init=0.01)\n",
        "\n",
        "# Fit data onto the model\n",
        "clf.fit(X_train,y_train)"
      ],
      "metadata": {
        "id": "lgqQe3ZMCsfL"
      },
      "execution_count": null,
      "outputs": []
    },
    {
      "cell_type": "markdown",
      "source": [
        "Next, we will make predictions on the test dataset and assess model accuracy based on available actual labels of the test dataset."
      ],
      "metadata": {
        "id": "kWiaXpccCvv-"
      }
    },
    {
      "cell_type": "code",
      "source": [
        "# Make prediction on test dataset\n",
        "ypred=clf.predict(X_test)\n",
        "\n",
        "# Import accuracy score\n",
        "from sklearn.metrics import accuracy_score\n",
        "\n",
        "# Calcuate accuracy\n",
        "accuracy_score(y_test,ypred)"
      ],
      "metadata": {
        "id": "xtFgUcCnC5jp"
      },
      "execution_count": null,
      "outputs": []
    },
    {
      "cell_type": "markdown",
      "source": [
        "Here classification rate of 93.8%, considered as good accuracy."
      ],
      "metadata": {
        "id": "pRVU1AINDAsT"
      }
    }
  ],
  "metadata": {
    "kernelspec": {
      "display_name": "Python 3 (ipykernel)",
      "language": "python",
      "name": "python3"
    },
    "language_info": {
      "codemirror_mode": {
        "name": "ipython",
        "version": 3
      },
      "file_extension": ".py",
      "mimetype": "text/x-python",
      "name": "python",
      "nbconvert_exporter": "python",
      "pygments_lexer": "ipython3",
      "version": "3.8.2"
    },
    "colab": {
      "provenance": [],
      "include_colab_link": true
    },
    "widgets": {
      "application/vnd.jupyter.widget-state+json": {
        "fba8307dea43436bb6cceb073a8053ab": {
          "model_module": "@jupyter-widgets/controls",
          "model_name": "VBoxModel",
          "model_module_version": "1.5.0",
          "state": {
            "_dom_classes": [
              "widget-interact"
            ],
            "_model_module": "@jupyter-widgets/controls",
            "_model_module_version": "1.5.0",
            "_model_name": "VBoxModel",
            "_view_count": null,
            "_view_module": "@jupyter-widgets/controls",
            "_view_module_version": "1.5.0",
            "_view_name": "VBoxView",
            "box_style": "",
            "children": [
              "IPY_MODEL_5c1b02fe32a04aa399f044c1b1542220",
              "IPY_MODEL_42b9ab50dcf54d38ac2a37c472712410",
              "IPY_MODEL_8ab01147bf2c49cfb3d4bc0c768fee81",
              "IPY_MODEL_d7bfe95ca8e642249d91d712512e2b2f",
              "IPY_MODEL_da5a0c4e4ade4054bad958af416590b3",
              "IPY_MODEL_5a531ca04b9542e88369b3049193e9a6"
            ],
            "layout": "IPY_MODEL_a77b4488bb4148a69ca72644c76428b7"
          }
        },
        "5c1b02fe32a04aa399f044c1b1542220": {
          "model_module": "@jupyter-widgets/controls",
          "model_name": "FloatSliderModel",
          "model_module_version": "1.5.0",
          "state": {
            "_dom_classes": [],
            "_model_module": "@jupyter-widgets/controls",
            "_model_module_version": "1.5.0",
            "_model_name": "FloatSliderModel",
            "_view_count": null,
            "_view_module": "@jupyter-widgets/controls",
            "_view_module_version": "1.5.0",
            "_view_name": "FloatSliderView",
            "continuous_update": true,
            "description": "X Value:",
            "description_tooltip": null,
            "disabled": false,
            "layout": "IPY_MODEL_24bdc4db7f104f87807373ac55621843",
            "max": 10,
            "min": -10,
            "orientation": "horizontal",
            "readout": true,
            "readout_format": ".2f",
            "step": 0.01,
            "style": "IPY_MODEL_f378d0db0b5f4515af8f33b0b20a5ca4",
            "value": 10
          }
        },
        "42b9ab50dcf54d38ac2a37c472712410": {
          "model_module": "@jupyter-widgets/controls",
          "model_name": "CheckboxModel",
          "model_module_version": "1.5.0",
          "state": {
            "_dom_classes": [],
            "_model_module": "@jupyter-widgets/controls",
            "_model_module_version": "1.5.0",
            "_model_name": "CheckboxModel",
            "_view_count": null,
            "_view_module": "@jupyter-widgets/controls",
            "_view_module_version": "1.5.0",
            "_view_name": "CheckboxView",
            "description": "Sigmoid",
            "description_tooltip": null,
            "disabled": false,
            "indent": false,
            "layout": "IPY_MODEL_1f5275f0c2554a05b77a1f6242dbaf6f",
            "style": "IPY_MODEL_122345d5be2e40648fc00d8c256085ec",
            "value": true
          }
        },
        "8ab01147bf2c49cfb3d4bc0c768fee81": {
          "model_module": "@jupyter-widgets/controls",
          "model_name": "CheckboxModel",
          "model_module_version": "1.5.0",
          "state": {
            "_dom_classes": [],
            "_model_module": "@jupyter-widgets/controls",
            "_model_module_version": "1.5.0",
            "_model_name": "CheckboxModel",
            "_view_count": null,
            "_view_module": "@jupyter-widgets/controls",
            "_view_module_version": "1.5.0",
            "_view_name": "CheckboxView",
            "description": "ReLU",
            "description_tooltip": null,
            "disabled": false,
            "indent": false,
            "layout": "IPY_MODEL_43257c41430745929fa81e47179a0ee5",
            "style": "IPY_MODEL_a726d7d26e464c9cb13537d1e7ac9e8f",
            "value": false
          }
        },
        "d7bfe95ca8e642249d91d712512e2b2f": {
          "model_module": "@jupyter-widgets/controls",
          "model_name": "CheckboxModel",
          "model_module_version": "1.5.0",
          "state": {
            "_dom_classes": [],
            "_model_module": "@jupyter-widgets/controls",
            "_model_module_version": "1.5.0",
            "_model_name": "CheckboxModel",
            "_view_count": null,
            "_view_module": "@jupyter-widgets/controls",
            "_view_module_version": "1.5.0",
            "_view_name": "CheckboxView",
            "description": "Tanh",
            "description_tooltip": null,
            "disabled": false,
            "indent": false,
            "layout": "IPY_MODEL_145ab932f5744585ba41c6e7352c8d19",
            "style": "IPY_MODEL_87b8b563722d4cb89f05fec0486105fd",
            "value": false
          }
        },
        "da5a0c4e4ade4054bad958af416590b3": {
          "model_module": "@jupyter-widgets/controls",
          "model_name": "CheckboxModel",
          "model_module_version": "1.5.0",
          "state": {
            "_dom_classes": [],
            "_model_module": "@jupyter-widgets/controls",
            "_model_module_version": "1.5.0",
            "_model_name": "CheckboxModel",
            "_view_count": null,
            "_view_module": "@jupyter-widgets/controls",
            "_view_module_version": "1.5.0",
            "_view_name": "CheckboxView",
            "description": "Softplus",
            "description_tooltip": null,
            "disabled": false,
            "indent": false,
            "layout": "IPY_MODEL_7188628caa9141dd9f141299d03479f4",
            "style": "IPY_MODEL_23b3f43f7a6e4649930c5b36636b270e",
            "value": false
          }
        },
        "5a531ca04b9542e88369b3049193e9a6": {
          "model_module": "@jupyter-widgets/output",
          "model_name": "OutputModel",
          "model_module_version": "1.0.0",
          "state": {
            "_dom_classes": [],
            "_model_module": "@jupyter-widgets/output",
            "_model_module_version": "1.0.0",
            "_model_name": "OutputModel",
            "_view_count": null,
            "_view_module": "@jupyter-widgets/output",
            "_view_module_version": "1.0.0",
            "_view_name": "OutputView",
            "layout": "IPY_MODEL_d6cad1f8f722444b9d754566523b64a2",
            "msg_id": "",
            "outputs": [
              {
                "output_type": "display_data",
                "data": {
                  "text/plain": "<Figure size 800x600 with 1 Axes>",
                  "image/png": "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\n"
                },
                "metadata": {}
              }
            ]
          }
        },
        "a77b4488bb4148a69ca72644c76428b7": {
          "model_module": "@jupyter-widgets/base",
          "model_name": "LayoutModel",
          "model_module_version": "1.2.0",
          "state": {
            "_model_module": "@jupyter-widgets/base",
            "_model_module_version": "1.2.0",
            "_model_name": "LayoutModel",
            "_view_count": null,
            "_view_module": "@jupyter-widgets/base",
            "_view_module_version": "1.2.0",
            "_view_name": "LayoutView",
            "align_content": null,
            "align_items": null,
            "align_self": null,
            "border": null,
            "bottom": null,
            "display": null,
            "flex": null,
            "flex_flow": null,
            "grid_area": null,
            "grid_auto_columns": null,
            "grid_auto_flow": null,
            "grid_auto_rows": null,
            "grid_column": null,
            "grid_gap": null,
            "grid_row": null,
            "grid_template_areas": null,
            "grid_template_columns": null,
            "grid_template_rows": null,
            "height": null,
            "justify_content": null,
            "justify_items": null,
            "left": null,
            "margin": null,
            "max_height": null,
            "max_width": null,
            "min_height": null,
            "min_width": null,
            "object_fit": null,
            "object_position": null,
            "order": null,
            "overflow": null,
            "overflow_x": null,
            "overflow_y": null,
            "padding": null,
            "right": null,
            "top": null,
            "visibility": null,
            "width": null
          }
        },
        "24bdc4db7f104f87807373ac55621843": {
          "model_module": "@jupyter-widgets/base",
          "model_name": "LayoutModel",
          "model_module_version": "1.2.0",
          "state": {
            "_model_module": "@jupyter-widgets/base",
            "_model_module_version": "1.2.0",
            "_model_name": "LayoutModel",
            "_view_count": null,
            "_view_module": "@jupyter-widgets/base",
            "_view_module_version": "1.2.0",
            "_view_name": "LayoutView",
            "align_content": null,
            "align_items": null,
            "align_self": null,
            "border": null,
            "bottom": null,
            "display": null,
            "flex": null,
            "flex_flow": null,
            "grid_area": null,
            "grid_auto_columns": null,
            "grid_auto_flow": null,
            "grid_auto_rows": null,
            "grid_column": null,
            "grid_gap": null,
            "grid_row": null,
            "grid_template_areas": null,
            "grid_template_columns": null,
            "grid_template_rows": null,
            "height": null,
            "justify_content": null,
            "justify_items": null,
            "left": null,
            "margin": null,
            "max_height": null,
            "max_width": null,
            "min_height": null,
            "min_width": null,
            "object_fit": null,
            "object_position": null,
            "order": null,
            "overflow": null,
            "overflow_x": null,
            "overflow_y": null,
            "padding": null,
            "right": null,
            "top": null,
            "visibility": null,
            "width": null
          }
        },
        "f378d0db0b5f4515af8f33b0b20a5ca4": {
          "model_module": "@jupyter-widgets/controls",
          "model_name": "SliderStyleModel",
          "model_module_version": "1.5.0",
          "state": {
            "_model_module": "@jupyter-widgets/controls",
            "_model_module_version": "1.5.0",
            "_model_name": "SliderStyleModel",
            "_view_count": null,
            "_view_module": "@jupyter-widgets/base",
            "_view_module_version": "1.2.0",
            "_view_name": "StyleView",
            "description_width": "",
            "handle_color": null
          }
        },
        "1f5275f0c2554a05b77a1f6242dbaf6f": {
          "model_module": "@jupyter-widgets/base",
          "model_name": "LayoutModel",
          "model_module_version": "1.2.0",
          "state": {
            "_model_module": "@jupyter-widgets/base",
            "_model_module_version": "1.2.0",
            "_model_name": "LayoutModel",
            "_view_count": null,
            "_view_module": "@jupyter-widgets/base",
            "_view_module_version": "1.2.0",
            "_view_name": "LayoutView",
            "align_content": null,
            "align_items": null,
            "align_self": null,
            "border": null,
            "bottom": null,
            "display": null,
            "flex": null,
            "flex_flow": null,
            "grid_area": null,
            "grid_auto_columns": null,
            "grid_auto_flow": null,
            "grid_auto_rows": null,
            "grid_column": null,
            "grid_gap": null,
            "grid_row": null,
            "grid_template_areas": null,
            "grid_template_columns": null,
            "grid_template_rows": null,
            "height": null,
            "justify_content": null,
            "justify_items": null,
            "left": null,
            "margin": null,
            "max_height": null,
            "max_width": null,
            "min_height": null,
            "min_width": null,
            "object_fit": null,
            "object_position": null,
            "order": null,
            "overflow": null,
            "overflow_x": null,
            "overflow_y": null,
            "padding": null,
            "right": null,
            "top": null,
            "visibility": null,
            "width": null
          }
        },
        "122345d5be2e40648fc00d8c256085ec": {
          "model_module": "@jupyter-widgets/controls",
          "model_name": "DescriptionStyleModel",
          "model_module_version": "1.5.0",
          "state": {
            "_model_module": "@jupyter-widgets/controls",
            "_model_module_version": "1.5.0",
            "_model_name": "DescriptionStyleModel",
            "_view_count": null,
            "_view_module": "@jupyter-widgets/base",
            "_view_module_version": "1.2.0",
            "_view_name": "StyleView",
            "description_width": ""
          }
        },
        "43257c41430745929fa81e47179a0ee5": {
          "model_module": "@jupyter-widgets/base",
          "model_name": "LayoutModel",
          "model_module_version": "1.2.0",
          "state": {
            "_model_module": "@jupyter-widgets/base",
            "_model_module_version": "1.2.0",
            "_model_name": "LayoutModel",
            "_view_count": null,
            "_view_module": "@jupyter-widgets/base",
            "_view_module_version": "1.2.0",
            "_view_name": "LayoutView",
            "align_content": null,
            "align_items": null,
            "align_self": null,
            "border": null,
            "bottom": null,
            "display": null,
            "flex": null,
            "flex_flow": null,
            "grid_area": null,
            "grid_auto_columns": null,
            "grid_auto_flow": null,
            "grid_auto_rows": null,
            "grid_column": null,
            "grid_gap": null,
            "grid_row": null,
            "grid_template_areas": null,
            "grid_template_columns": null,
            "grid_template_rows": null,
            "height": null,
            "justify_content": null,
            "justify_items": null,
            "left": null,
            "margin": null,
            "max_height": null,
            "max_width": null,
            "min_height": null,
            "min_width": null,
            "object_fit": null,
            "object_position": null,
            "order": null,
            "overflow": null,
            "overflow_x": null,
            "overflow_y": null,
            "padding": null,
            "right": null,
            "top": null,
            "visibility": null,
            "width": null
          }
        },
        "a726d7d26e464c9cb13537d1e7ac9e8f": {
          "model_module": "@jupyter-widgets/controls",
          "model_name": "DescriptionStyleModel",
          "model_module_version": "1.5.0",
          "state": {
            "_model_module": "@jupyter-widgets/controls",
            "_model_module_version": "1.5.0",
            "_model_name": "DescriptionStyleModel",
            "_view_count": null,
            "_view_module": "@jupyter-widgets/base",
            "_view_module_version": "1.2.0",
            "_view_name": "StyleView",
            "description_width": ""
          }
        },
        "145ab932f5744585ba41c6e7352c8d19": {
          "model_module": "@jupyter-widgets/base",
          "model_name": "LayoutModel",
          "model_module_version": "1.2.0",
          "state": {
            "_model_module": "@jupyter-widgets/base",
            "_model_module_version": "1.2.0",
            "_model_name": "LayoutModel",
            "_view_count": null,
            "_view_module": "@jupyter-widgets/base",
            "_view_module_version": "1.2.0",
            "_view_name": "LayoutView",
            "align_content": null,
            "align_items": null,
            "align_self": null,
            "border": null,
            "bottom": null,
            "display": null,
            "flex": null,
            "flex_flow": null,
            "grid_area": null,
            "grid_auto_columns": null,
            "grid_auto_flow": null,
            "grid_auto_rows": null,
            "grid_column": null,
            "grid_gap": null,
            "grid_row": null,
            "grid_template_areas": null,
            "grid_template_columns": null,
            "grid_template_rows": null,
            "height": null,
            "justify_content": null,
            "justify_items": null,
            "left": null,
            "margin": null,
            "max_height": null,
            "max_width": null,
            "min_height": null,
            "min_width": null,
            "object_fit": null,
            "object_position": null,
            "order": null,
            "overflow": null,
            "overflow_x": null,
            "overflow_y": null,
            "padding": null,
            "right": null,
            "top": null,
            "visibility": null,
            "width": null
          }
        },
        "87b8b563722d4cb89f05fec0486105fd": {
          "model_module": "@jupyter-widgets/controls",
          "model_name": "DescriptionStyleModel",
          "model_module_version": "1.5.0",
          "state": {
            "_model_module": "@jupyter-widgets/controls",
            "_model_module_version": "1.5.0",
            "_model_name": "DescriptionStyleModel",
            "_view_count": null,
            "_view_module": "@jupyter-widgets/base",
            "_view_module_version": "1.2.0",
            "_view_name": "StyleView",
            "description_width": ""
          }
        },
        "7188628caa9141dd9f141299d03479f4": {
          "model_module": "@jupyter-widgets/base",
          "model_name": "LayoutModel",
          "model_module_version": "1.2.0",
          "state": {
            "_model_module": "@jupyter-widgets/base",
            "_model_module_version": "1.2.0",
            "_model_name": "LayoutModel",
            "_view_count": null,
            "_view_module": "@jupyter-widgets/base",
            "_view_module_version": "1.2.0",
            "_view_name": "LayoutView",
            "align_content": null,
            "align_items": null,
            "align_self": null,
            "border": null,
            "bottom": null,
            "display": null,
            "flex": null,
            "flex_flow": null,
            "grid_area": null,
            "grid_auto_columns": null,
            "grid_auto_flow": null,
            "grid_auto_rows": null,
            "grid_column": null,
            "grid_gap": null,
            "grid_row": null,
            "grid_template_areas": null,
            "grid_template_columns": null,
            "grid_template_rows": null,
            "height": null,
            "justify_content": null,
            "justify_items": null,
            "left": null,
            "margin": null,
            "max_height": null,
            "max_width": null,
            "min_height": null,
            "min_width": null,
            "object_fit": null,
            "object_position": null,
            "order": null,
            "overflow": null,
            "overflow_x": null,
            "overflow_y": null,
            "padding": null,
            "right": null,
            "top": null,
            "visibility": null,
            "width": null
          }
        },
        "23b3f43f7a6e4649930c5b36636b270e": {
          "model_module": "@jupyter-widgets/controls",
          "model_name": "DescriptionStyleModel",
          "model_module_version": "1.5.0",
          "state": {
            "_model_module": "@jupyter-widgets/controls",
            "_model_module_version": "1.5.0",
            "_model_name": "DescriptionStyleModel",
            "_view_count": null,
            "_view_module": "@jupyter-widgets/base",
            "_view_module_version": "1.2.0",
            "_view_name": "StyleView",
            "description_width": ""
          }
        },
        "d6cad1f8f722444b9d754566523b64a2": {
          "model_module": "@jupyter-widgets/base",
          "model_name": "LayoutModel",
          "model_module_version": "1.2.0",
          "state": {
            "_model_module": "@jupyter-widgets/base",
            "_model_module_version": "1.2.0",
            "_model_name": "LayoutModel",
            "_view_count": null,
            "_view_module": "@jupyter-widgets/base",
            "_view_module_version": "1.2.0",
            "_view_name": "LayoutView",
            "align_content": null,
            "align_items": null,
            "align_self": null,
            "border": null,
            "bottom": null,
            "display": null,
            "flex": null,
            "flex_flow": null,
            "grid_area": null,
            "grid_auto_columns": null,
            "grid_auto_flow": null,
            "grid_auto_rows": null,
            "grid_column": null,
            "grid_gap": null,
            "grid_row": null,
            "grid_template_areas": null,
            "grid_template_columns": null,
            "grid_template_rows": null,
            "height": null,
            "justify_content": null,
            "justify_items": null,
            "left": null,
            "margin": null,
            "max_height": null,
            "max_width": null,
            "min_height": null,
            "min_width": null,
            "object_fit": null,
            "object_position": null,
            "order": null,
            "overflow": null,
            "overflow_x": null,
            "overflow_y": null,
            "padding": null,
            "right": null,
            "top": null,
            "visibility": null,
            "width": null
          }
        }
      }
    }
  },
  "nbformat": 4,
  "nbformat_minor": 0
}